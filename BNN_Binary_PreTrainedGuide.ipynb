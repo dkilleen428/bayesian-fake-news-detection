{
  "nbformat": 4,
  "nbformat_minor": 0,
  "metadata": {
    "colab": {
      "provenance": [],
      "gpuType": "A100",
      "collapsed_sections": [
        "mlTnQCPsJA-L"
      ]
    },
    "kernelspec": {
      "name": "python3",
      "display_name": "Python 3"
    },
    "language_info": {
      "name": "python"
    },
    "accelerator": "GPU",
    "widgets": {
      "application/vnd.jupyter.widget-state+json": {
        "a8ef2fe54fb34d1a9d5f4c34e6d706f4": {
          "model_module": "@jupyter-widgets/controls",
          "model_name": "HBoxModel",
          "model_module_version": "1.5.0",
          "state": {
            "_dom_classes": [],
            "_model_module": "@jupyter-widgets/controls",
            "_model_module_version": "1.5.0",
            "_model_name": "HBoxModel",
            "_view_count": null,
            "_view_module": "@jupyter-widgets/controls",
            "_view_module_version": "1.5.0",
            "_view_name": "HBoxView",
            "box_style": "",
            "children": [
              "IPY_MODEL_7d35ed9da5ab4a238d2a5599af8f34ee",
              "IPY_MODEL_8414955506e64afc9886bccd0456c232",
              "IPY_MODEL_162eccc6141d4c9692e36e2edc810352"
            ],
            "layout": "IPY_MODEL_cfb27099a6924ffc90f66f7261cec645"
          }
        },
        "7d35ed9da5ab4a238d2a5599af8f34ee": {
          "model_module": "@jupyter-widgets/controls",
          "model_name": "HTMLModel",
          "model_module_version": "1.5.0",
          "state": {
            "_dom_classes": [],
            "_model_module": "@jupyter-widgets/controls",
            "_model_module_version": "1.5.0",
            "_model_name": "HTMLModel",
            "_view_count": null,
            "_view_module": "@jupyter-widgets/controls",
            "_view_module_version": "1.5.0",
            "_view_name": "HTMLView",
            "description": "",
            "description_tooltip": null,
            "layout": "IPY_MODEL_986a0f99adca43e78a8468ef3f0a71f7",
            "placeholder": "​",
            "style": "IPY_MODEL_1b33ad9051fc4d6cb3c2bf750b8d42f7",
            "value": "tokenizer_config.json: 100%"
          }
        },
        "8414955506e64afc9886bccd0456c232": {
          "model_module": "@jupyter-widgets/controls",
          "model_name": "FloatProgressModel",
          "model_module_version": "1.5.0",
          "state": {
            "_dom_classes": [],
            "_model_module": "@jupyter-widgets/controls",
            "_model_module_version": "1.5.0",
            "_model_name": "FloatProgressModel",
            "_view_count": null,
            "_view_module": "@jupyter-widgets/controls",
            "_view_module_version": "1.5.0",
            "_view_name": "ProgressView",
            "bar_style": "success",
            "description": "",
            "description_tooltip": null,
            "layout": "IPY_MODEL_2a7d4ae354974f56bb47b487fa2e3445",
            "max": 48,
            "min": 0,
            "orientation": "horizontal",
            "style": "IPY_MODEL_a08e2e3eaf414535a26f0bcb80155017",
            "value": 48
          }
        },
        "162eccc6141d4c9692e36e2edc810352": {
          "model_module": "@jupyter-widgets/controls",
          "model_name": "HTMLModel",
          "model_module_version": "1.5.0",
          "state": {
            "_dom_classes": [],
            "_model_module": "@jupyter-widgets/controls",
            "_model_module_version": "1.5.0",
            "_model_name": "HTMLModel",
            "_view_count": null,
            "_view_module": "@jupyter-widgets/controls",
            "_view_module_version": "1.5.0",
            "_view_name": "HTMLView",
            "description": "",
            "description_tooltip": null,
            "layout": "IPY_MODEL_61cc4d7b3b6c46e08f7cdc4ba1cad6c1",
            "placeholder": "​",
            "style": "IPY_MODEL_a1049ca6e3b4460ab87161b2fcb18ce5",
            "value": " 48.0/48.0 [00:00&lt;00:00, 5.20kB/s]"
          }
        },
        "cfb27099a6924ffc90f66f7261cec645": {
          "model_module": "@jupyter-widgets/base",
          "model_name": "LayoutModel",
          "model_module_version": "1.2.0",
          "state": {
            "_model_module": "@jupyter-widgets/base",
            "_model_module_version": "1.2.0",
            "_model_name": "LayoutModel",
            "_view_count": null,
            "_view_module": "@jupyter-widgets/base",
            "_view_module_version": "1.2.0",
            "_view_name": "LayoutView",
            "align_content": null,
            "align_items": null,
            "align_self": null,
            "border": null,
            "bottom": null,
            "display": null,
            "flex": null,
            "flex_flow": null,
            "grid_area": null,
            "grid_auto_columns": null,
            "grid_auto_flow": null,
            "grid_auto_rows": null,
            "grid_column": null,
            "grid_gap": null,
            "grid_row": null,
            "grid_template_areas": null,
            "grid_template_columns": null,
            "grid_template_rows": null,
            "height": null,
            "justify_content": null,
            "justify_items": null,
            "left": null,
            "margin": null,
            "max_height": null,
            "max_width": null,
            "min_height": null,
            "min_width": null,
            "object_fit": null,
            "object_position": null,
            "order": null,
            "overflow": null,
            "overflow_x": null,
            "overflow_y": null,
            "padding": null,
            "right": null,
            "top": null,
            "visibility": null,
            "width": null
          }
        },
        "986a0f99adca43e78a8468ef3f0a71f7": {
          "model_module": "@jupyter-widgets/base",
          "model_name": "LayoutModel",
          "model_module_version": "1.2.0",
          "state": {
            "_model_module": "@jupyter-widgets/base",
            "_model_module_version": "1.2.0",
            "_model_name": "LayoutModel",
            "_view_count": null,
            "_view_module": "@jupyter-widgets/base",
            "_view_module_version": "1.2.0",
            "_view_name": "LayoutView",
            "align_content": null,
            "align_items": null,
            "align_self": null,
            "border": null,
            "bottom": null,
            "display": null,
            "flex": null,
            "flex_flow": null,
            "grid_area": null,
            "grid_auto_columns": null,
            "grid_auto_flow": null,
            "grid_auto_rows": null,
            "grid_column": null,
            "grid_gap": null,
            "grid_row": null,
            "grid_template_areas": null,
            "grid_template_columns": null,
            "grid_template_rows": null,
            "height": null,
            "justify_content": null,
            "justify_items": null,
            "left": null,
            "margin": null,
            "max_height": null,
            "max_width": null,
            "min_height": null,
            "min_width": null,
            "object_fit": null,
            "object_position": null,
            "order": null,
            "overflow": null,
            "overflow_x": null,
            "overflow_y": null,
            "padding": null,
            "right": null,
            "top": null,
            "visibility": null,
            "width": null
          }
        },
        "1b33ad9051fc4d6cb3c2bf750b8d42f7": {
          "model_module": "@jupyter-widgets/controls",
          "model_name": "DescriptionStyleModel",
          "model_module_version": "1.5.0",
          "state": {
            "_model_module": "@jupyter-widgets/controls",
            "_model_module_version": "1.5.0",
            "_model_name": "DescriptionStyleModel",
            "_view_count": null,
            "_view_module": "@jupyter-widgets/base",
            "_view_module_version": "1.2.0",
            "_view_name": "StyleView",
            "description_width": ""
          }
        },
        "2a7d4ae354974f56bb47b487fa2e3445": {
          "model_module": "@jupyter-widgets/base",
          "model_name": "LayoutModel",
          "model_module_version": "1.2.0",
          "state": {
            "_model_module": "@jupyter-widgets/base",
            "_model_module_version": "1.2.0",
            "_model_name": "LayoutModel",
            "_view_count": null,
            "_view_module": "@jupyter-widgets/base",
            "_view_module_version": "1.2.0",
            "_view_name": "LayoutView",
            "align_content": null,
            "align_items": null,
            "align_self": null,
            "border": null,
            "bottom": null,
            "display": null,
            "flex": null,
            "flex_flow": null,
            "grid_area": null,
            "grid_auto_columns": null,
            "grid_auto_flow": null,
            "grid_auto_rows": null,
            "grid_column": null,
            "grid_gap": null,
            "grid_row": null,
            "grid_template_areas": null,
            "grid_template_columns": null,
            "grid_template_rows": null,
            "height": null,
            "justify_content": null,
            "justify_items": null,
            "left": null,
            "margin": null,
            "max_height": null,
            "max_width": null,
            "min_height": null,
            "min_width": null,
            "object_fit": null,
            "object_position": null,
            "order": null,
            "overflow": null,
            "overflow_x": null,
            "overflow_y": null,
            "padding": null,
            "right": null,
            "top": null,
            "visibility": null,
            "width": null
          }
        },
        "a08e2e3eaf414535a26f0bcb80155017": {
          "model_module": "@jupyter-widgets/controls",
          "model_name": "ProgressStyleModel",
          "model_module_version": "1.5.0",
          "state": {
            "_model_module": "@jupyter-widgets/controls",
            "_model_module_version": "1.5.0",
            "_model_name": "ProgressStyleModel",
            "_view_count": null,
            "_view_module": "@jupyter-widgets/base",
            "_view_module_version": "1.2.0",
            "_view_name": "StyleView",
            "bar_color": null,
            "description_width": ""
          }
        },
        "61cc4d7b3b6c46e08f7cdc4ba1cad6c1": {
          "model_module": "@jupyter-widgets/base",
          "model_name": "LayoutModel",
          "model_module_version": "1.2.0",
          "state": {
            "_model_module": "@jupyter-widgets/base",
            "_model_module_version": "1.2.0",
            "_model_name": "LayoutModel",
            "_view_count": null,
            "_view_module": "@jupyter-widgets/base",
            "_view_module_version": "1.2.0",
            "_view_name": "LayoutView",
            "align_content": null,
            "align_items": null,
            "align_self": null,
            "border": null,
            "bottom": null,
            "display": null,
            "flex": null,
            "flex_flow": null,
            "grid_area": null,
            "grid_auto_columns": null,
            "grid_auto_flow": null,
            "grid_auto_rows": null,
            "grid_column": null,
            "grid_gap": null,
            "grid_row": null,
            "grid_template_areas": null,
            "grid_template_columns": null,
            "grid_template_rows": null,
            "height": null,
            "justify_content": null,
            "justify_items": null,
            "left": null,
            "margin": null,
            "max_height": null,
            "max_width": null,
            "min_height": null,
            "min_width": null,
            "object_fit": null,
            "object_position": null,
            "order": null,
            "overflow": null,
            "overflow_x": null,
            "overflow_y": null,
            "padding": null,
            "right": null,
            "top": null,
            "visibility": null,
            "width": null
          }
        },
        "a1049ca6e3b4460ab87161b2fcb18ce5": {
          "model_module": "@jupyter-widgets/controls",
          "model_name": "DescriptionStyleModel",
          "model_module_version": "1.5.0",
          "state": {
            "_model_module": "@jupyter-widgets/controls",
            "_model_module_version": "1.5.0",
            "_model_name": "DescriptionStyleModel",
            "_view_count": null,
            "_view_module": "@jupyter-widgets/base",
            "_view_module_version": "1.2.0",
            "_view_name": "StyleView",
            "description_width": ""
          }
        },
        "cd20073f304f4838a68f41f808edccb8": {
          "model_module": "@jupyter-widgets/controls",
          "model_name": "HBoxModel",
          "model_module_version": "1.5.0",
          "state": {
            "_dom_classes": [],
            "_model_module": "@jupyter-widgets/controls",
            "_model_module_version": "1.5.0",
            "_model_name": "HBoxModel",
            "_view_count": null,
            "_view_module": "@jupyter-widgets/controls",
            "_view_module_version": "1.5.0",
            "_view_name": "HBoxView",
            "box_style": "",
            "children": [
              "IPY_MODEL_35772164c74840a283192089f773bc50",
              "IPY_MODEL_7161ade89dc648b4997a87e4467f3a20",
              "IPY_MODEL_fbacbb262f7a42c7a88beb480cfd5377"
            ],
            "layout": "IPY_MODEL_615d5335a8154ec2b6ecb39adcc22d57"
          }
        },
        "35772164c74840a283192089f773bc50": {
          "model_module": "@jupyter-widgets/controls",
          "model_name": "HTMLModel",
          "model_module_version": "1.5.0",
          "state": {
            "_dom_classes": [],
            "_model_module": "@jupyter-widgets/controls",
            "_model_module_version": "1.5.0",
            "_model_name": "HTMLModel",
            "_view_count": null,
            "_view_module": "@jupyter-widgets/controls",
            "_view_module_version": "1.5.0",
            "_view_name": "HTMLView",
            "description": "",
            "description_tooltip": null,
            "layout": "IPY_MODEL_da7bbca3f86f4370a4347cfada20bed7",
            "placeholder": "​",
            "style": "IPY_MODEL_f5ca26b2300c4540874276a5f1ea6fd5",
            "value": "vocab.txt: 100%"
          }
        },
        "7161ade89dc648b4997a87e4467f3a20": {
          "model_module": "@jupyter-widgets/controls",
          "model_name": "FloatProgressModel",
          "model_module_version": "1.5.0",
          "state": {
            "_dom_classes": [],
            "_model_module": "@jupyter-widgets/controls",
            "_model_module_version": "1.5.0",
            "_model_name": "FloatProgressModel",
            "_view_count": null,
            "_view_module": "@jupyter-widgets/controls",
            "_view_module_version": "1.5.0",
            "_view_name": "ProgressView",
            "bar_style": "success",
            "description": "",
            "description_tooltip": null,
            "layout": "IPY_MODEL_4e22404798634d8d98bb8d8afbb29750",
            "max": 231508,
            "min": 0,
            "orientation": "horizontal",
            "style": "IPY_MODEL_4a14015aa51b41f2bd1d127054aabca9",
            "value": 231508
          }
        },
        "fbacbb262f7a42c7a88beb480cfd5377": {
          "model_module": "@jupyter-widgets/controls",
          "model_name": "HTMLModel",
          "model_module_version": "1.5.0",
          "state": {
            "_dom_classes": [],
            "_model_module": "@jupyter-widgets/controls",
            "_model_module_version": "1.5.0",
            "_model_name": "HTMLModel",
            "_view_count": null,
            "_view_module": "@jupyter-widgets/controls",
            "_view_module_version": "1.5.0",
            "_view_name": "HTMLView",
            "description": "",
            "description_tooltip": null,
            "layout": "IPY_MODEL_e5d08c0558484393be21722b08687894",
            "placeholder": "​",
            "style": "IPY_MODEL_85e4cd4fd5984ccc9269f9b329869440",
            "value": " 232k/232k [00:00&lt;00:00, 2.61MB/s]"
          }
        },
        "615d5335a8154ec2b6ecb39adcc22d57": {
          "model_module": "@jupyter-widgets/base",
          "model_name": "LayoutModel",
          "model_module_version": "1.2.0",
          "state": {
            "_model_module": "@jupyter-widgets/base",
            "_model_module_version": "1.2.0",
            "_model_name": "LayoutModel",
            "_view_count": null,
            "_view_module": "@jupyter-widgets/base",
            "_view_module_version": "1.2.0",
            "_view_name": "LayoutView",
            "align_content": null,
            "align_items": null,
            "align_self": null,
            "border": null,
            "bottom": null,
            "display": null,
            "flex": null,
            "flex_flow": null,
            "grid_area": null,
            "grid_auto_columns": null,
            "grid_auto_flow": null,
            "grid_auto_rows": null,
            "grid_column": null,
            "grid_gap": null,
            "grid_row": null,
            "grid_template_areas": null,
            "grid_template_columns": null,
            "grid_template_rows": null,
            "height": null,
            "justify_content": null,
            "justify_items": null,
            "left": null,
            "margin": null,
            "max_height": null,
            "max_width": null,
            "min_height": null,
            "min_width": null,
            "object_fit": null,
            "object_position": null,
            "order": null,
            "overflow": null,
            "overflow_x": null,
            "overflow_y": null,
            "padding": null,
            "right": null,
            "top": null,
            "visibility": null,
            "width": null
          }
        },
        "da7bbca3f86f4370a4347cfada20bed7": {
          "model_module": "@jupyter-widgets/base",
          "model_name": "LayoutModel",
          "model_module_version": "1.2.0",
          "state": {
            "_model_module": "@jupyter-widgets/base",
            "_model_module_version": "1.2.0",
            "_model_name": "LayoutModel",
            "_view_count": null,
            "_view_module": "@jupyter-widgets/base",
            "_view_module_version": "1.2.0",
            "_view_name": "LayoutView",
            "align_content": null,
            "align_items": null,
            "align_self": null,
            "border": null,
            "bottom": null,
            "display": null,
            "flex": null,
            "flex_flow": null,
            "grid_area": null,
            "grid_auto_columns": null,
            "grid_auto_flow": null,
            "grid_auto_rows": null,
            "grid_column": null,
            "grid_gap": null,
            "grid_row": null,
            "grid_template_areas": null,
            "grid_template_columns": null,
            "grid_template_rows": null,
            "height": null,
            "justify_content": null,
            "justify_items": null,
            "left": null,
            "margin": null,
            "max_height": null,
            "max_width": null,
            "min_height": null,
            "min_width": null,
            "object_fit": null,
            "object_position": null,
            "order": null,
            "overflow": null,
            "overflow_x": null,
            "overflow_y": null,
            "padding": null,
            "right": null,
            "top": null,
            "visibility": null,
            "width": null
          }
        },
        "f5ca26b2300c4540874276a5f1ea6fd5": {
          "model_module": "@jupyter-widgets/controls",
          "model_name": "DescriptionStyleModel",
          "model_module_version": "1.5.0",
          "state": {
            "_model_module": "@jupyter-widgets/controls",
            "_model_module_version": "1.5.0",
            "_model_name": "DescriptionStyleModel",
            "_view_count": null,
            "_view_module": "@jupyter-widgets/base",
            "_view_module_version": "1.2.0",
            "_view_name": "StyleView",
            "description_width": ""
          }
        },
        "4e22404798634d8d98bb8d8afbb29750": {
          "model_module": "@jupyter-widgets/base",
          "model_name": "LayoutModel",
          "model_module_version": "1.2.0",
          "state": {
            "_model_module": "@jupyter-widgets/base",
            "_model_module_version": "1.2.0",
            "_model_name": "LayoutModel",
            "_view_count": null,
            "_view_module": "@jupyter-widgets/base",
            "_view_module_version": "1.2.0",
            "_view_name": "LayoutView",
            "align_content": null,
            "align_items": null,
            "align_self": null,
            "border": null,
            "bottom": null,
            "display": null,
            "flex": null,
            "flex_flow": null,
            "grid_area": null,
            "grid_auto_columns": null,
            "grid_auto_flow": null,
            "grid_auto_rows": null,
            "grid_column": null,
            "grid_gap": null,
            "grid_row": null,
            "grid_template_areas": null,
            "grid_template_columns": null,
            "grid_template_rows": null,
            "height": null,
            "justify_content": null,
            "justify_items": null,
            "left": null,
            "margin": null,
            "max_height": null,
            "max_width": null,
            "min_height": null,
            "min_width": null,
            "object_fit": null,
            "object_position": null,
            "order": null,
            "overflow": null,
            "overflow_x": null,
            "overflow_y": null,
            "padding": null,
            "right": null,
            "top": null,
            "visibility": null,
            "width": null
          }
        },
        "4a14015aa51b41f2bd1d127054aabca9": {
          "model_module": "@jupyter-widgets/controls",
          "model_name": "ProgressStyleModel",
          "model_module_version": "1.5.0",
          "state": {
            "_model_module": "@jupyter-widgets/controls",
            "_model_module_version": "1.5.0",
            "_model_name": "ProgressStyleModel",
            "_view_count": null,
            "_view_module": "@jupyter-widgets/base",
            "_view_module_version": "1.2.0",
            "_view_name": "StyleView",
            "bar_color": null,
            "description_width": ""
          }
        },
        "e5d08c0558484393be21722b08687894": {
          "model_module": "@jupyter-widgets/base",
          "model_name": "LayoutModel",
          "model_module_version": "1.2.0",
          "state": {
            "_model_module": "@jupyter-widgets/base",
            "_model_module_version": "1.2.0",
            "_model_name": "LayoutModel",
            "_view_count": null,
            "_view_module": "@jupyter-widgets/base",
            "_view_module_version": "1.2.0",
            "_view_name": "LayoutView",
            "align_content": null,
            "align_items": null,
            "align_self": null,
            "border": null,
            "bottom": null,
            "display": null,
            "flex": null,
            "flex_flow": null,
            "grid_area": null,
            "grid_auto_columns": null,
            "grid_auto_flow": null,
            "grid_auto_rows": null,
            "grid_column": null,
            "grid_gap": null,
            "grid_row": null,
            "grid_template_areas": null,
            "grid_template_columns": null,
            "grid_template_rows": null,
            "height": null,
            "justify_content": null,
            "justify_items": null,
            "left": null,
            "margin": null,
            "max_height": null,
            "max_width": null,
            "min_height": null,
            "min_width": null,
            "object_fit": null,
            "object_position": null,
            "order": null,
            "overflow": null,
            "overflow_x": null,
            "overflow_y": null,
            "padding": null,
            "right": null,
            "top": null,
            "visibility": null,
            "width": null
          }
        },
        "85e4cd4fd5984ccc9269f9b329869440": {
          "model_module": "@jupyter-widgets/controls",
          "model_name": "DescriptionStyleModel",
          "model_module_version": "1.5.0",
          "state": {
            "_model_module": "@jupyter-widgets/controls",
            "_model_module_version": "1.5.0",
            "_model_name": "DescriptionStyleModel",
            "_view_count": null,
            "_view_module": "@jupyter-widgets/base",
            "_view_module_version": "1.2.0",
            "_view_name": "StyleView",
            "description_width": ""
          }
        },
        "31e0a40c915341148984fa8f293ebdab": {
          "model_module": "@jupyter-widgets/controls",
          "model_name": "HBoxModel",
          "model_module_version": "1.5.0",
          "state": {
            "_dom_classes": [],
            "_model_module": "@jupyter-widgets/controls",
            "_model_module_version": "1.5.0",
            "_model_name": "HBoxModel",
            "_view_count": null,
            "_view_module": "@jupyter-widgets/controls",
            "_view_module_version": "1.5.0",
            "_view_name": "HBoxView",
            "box_style": "",
            "children": [
              "IPY_MODEL_703b8ba98643495cb462e70eec42e72b",
              "IPY_MODEL_3608bdd1653c4c708135a5aa2ef5b2ac",
              "IPY_MODEL_3410de5293bf4e7fbbd9db4313f520a9"
            ],
            "layout": "IPY_MODEL_0c4a33764fba4cb6881c5f89bd954402"
          }
        },
        "703b8ba98643495cb462e70eec42e72b": {
          "model_module": "@jupyter-widgets/controls",
          "model_name": "HTMLModel",
          "model_module_version": "1.5.0",
          "state": {
            "_dom_classes": [],
            "_model_module": "@jupyter-widgets/controls",
            "_model_module_version": "1.5.0",
            "_model_name": "HTMLModel",
            "_view_count": null,
            "_view_module": "@jupyter-widgets/controls",
            "_view_module_version": "1.5.0",
            "_view_name": "HTMLView",
            "description": "",
            "description_tooltip": null,
            "layout": "IPY_MODEL_d4a2632841e74ce889ecec84723751f9",
            "placeholder": "​",
            "style": "IPY_MODEL_0910a4c861a54426a35da3d7f04a4a4c",
            "value": "tokenizer.json: 100%"
          }
        },
        "3608bdd1653c4c708135a5aa2ef5b2ac": {
          "model_module": "@jupyter-widgets/controls",
          "model_name": "FloatProgressModel",
          "model_module_version": "1.5.0",
          "state": {
            "_dom_classes": [],
            "_model_module": "@jupyter-widgets/controls",
            "_model_module_version": "1.5.0",
            "_model_name": "FloatProgressModel",
            "_view_count": null,
            "_view_module": "@jupyter-widgets/controls",
            "_view_module_version": "1.5.0",
            "_view_name": "ProgressView",
            "bar_style": "success",
            "description": "",
            "description_tooltip": null,
            "layout": "IPY_MODEL_785438570fc94726a6670683cdede9e3",
            "max": 466062,
            "min": 0,
            "orientation": "horizontal",
            "style": "IPY_MODEL_4d2f7b561ed6441aabcb5e5ea5311c3f",
            "value": 466062
          }
        },
        "3410de5293bf4e7fbbd9db4313f520a9": {
          "model_module": "@jupyter-widgets/controls",
          "model_name": "HTMLModel",
          "model_module_version": "1.5.0",
          "state": {
            "_dom_classes": [],
            "_model_module": "@jupyter-widgets/controls",
            "_model_module_version": "1.5.0",
            "_model_name": "HTMLModel",
            "_view_count": null,
            "_view_module": "@jupyter-widgets/controls",
            "_view_module_version": "1.5.0",
            "_view_name": "HTMLView",
            "description": "",
            "description_tooltip": null,
            "layout": "IPY_MODEL_c236a2051db544128392f731ae3e4144",
            "placeholder": "​",
            "style": "IPY_MODEL_a7bba46ec1ac41c7a328a510e3f54206",
            "value": " 466k/466k [00:00&lt;00:00, 2.82MB/s]"
          }
        },
        "0c4a33764fba4cb6881c5f89bd954402": {
          "model_module": "@jupyter-widgets/base",
          "model_name": "LayoutModel",
          "model_module_version": "1.2.0",
          "state": {
            "_model_module": "@jupyter-widgets/base",
            "_model_module_version": "1.2.0",
            "_model_name": "LayoutModel",
            "_view_count": null,
            "_view_module": "@jupyter-widgets/base",
            "_view_module_version": "1.2.0",
            "_view_name": "LayoutView",
            "align_content": null,
            "align_items": null,
            "align_self": null,
            "border": null,
            "bottom": null,
            "display": null,
            "flex": null,
            "flex_flow": null,
            "grid_area": null,
            "grid_auto_columns": null,
            "grid_auto_flow": null,
            "grid_auto_rows": null,
            "grid_column": null,
            "grid_gap": null,
            "grid_row": null,
            "grid_template_areas": null,
            "grid_template_columns": null,
            "grid_template_rows": null,
            "height": null,
            "justify_content": null,
            "justify_items": null,
            "left": null,
            "margin": null,
            "max_height": null,
            "max_width": null,
            "min_height": null,
            "min_width": null,
            "object_fit": null,
            "object_position": null,
            "order": null,
            "overflow": null,
            "overflow_x": null,
            "overflow_y": null,
            "padding": null,
            "right": null,
            "top": null,
            "visibility": null,
            "width": null
          }
        },
        "d4a2632841e74ce889ecec84723751f9": {
          "model_module": "@jupyter-widgets/base",
          "model_name": "LayoutModel",
          "model_module_version": "1.2.0",
          "state": {
            "_model_module": "@jupyter-widgets/base",
            "_model_module_version": "1.2.0",
            "_model_name": "LayoutModel",
            "_view_count": null,
            "_view_module": "@jupyter-widgets/base",
            "_view_module_version": "1.2.0",
            "_view_name": "LayoutView",
            "align_content": null,
            "align_items": null,
            "align_self": null,
            "border": null,
            "bottom": null,
            "display": null,
            "flex": null,
            "flex_flow": null,
            "grid_area": null,
            "grid_auto_columns": null,
            "grid_auto_flow": null,
            "grid_auto_rows": null,
            "grid_column": null,
            "grid_gap": null,
            "grid_row": null,
            "grid_template_areas": null,
            "grid_template_columns": null,
            "grid_template_rows": null,
            "height": null,
            "justify_content": null,
            "justify_items": null,
            "left": null,
            "margin": null,
            "max_height": null,
            "max_width": null,
            "min_height": null,
            "min_width": null,
            "object_fit": null,
            "object_position": null,
            "order": null,
            "overflow": null,
            "overflow_x": null,
            "overflow_y": null,
            "padding": null,
            "right": null,
            "top": null,
            "visibility": null,
            "width": null
          }
        },
        "0910a4c861a54426a35da3d7f04a4a4c": {
          "model_module": "@jupyter-widgets/controls",
          "model_name": "DescriptionStyleModel",
          "model_module_version": "1.5.0",
          "state": {
            "_model_module": "@jupyter-widgets/controls",
            "_model_module_version": "1.5.0",
            "_model_name": "DescriptionStyleModel",
            "_view_count": null,
            "_view_module": "@jupyter-widgets/base",
            "_view_module_version": "1.2.0",
            "_view_name": "StyleView",
            "description_width": ""
          }
        },
        "785438570fc94726a6670683cdede9e3": {
          "model_module": "@jupyter-widgets/base",
          "model_name": "LayoutModel",
          "model_module_version": "1.2.0",
          "state": {
            "_model_module": "@jupyter-widgets/base",
            "_model_module_version": "1.2.0",
            "_model_name": "LayoutModel",
            "_view_count": null,
            "_view_module": "@jupyter-widgets/base",
            "_view_module_version": "1.2.0",
            "_view_name": "LayoutView",
            "align_content": null,
            "align_items": null,
            "align_self": null,
            "border": null,
            "bottom": null,
            "display": null,
            "flex": null,
            "flex_flow": null,
            "grid_area": null,
            "grid_auto_columns": null,
            "grid_auto_flow": null,
            "grid_auto_rows": null,
            "grid_column": null,
            "grid_gap": null,
            "grid_row": null,
            "grid_template_areas": null,
            "grid_template_columns": null,
            "grid_template_rows": null,
            "height": null,
            "justify_content": null,
            "justify_items": null,
            "left": null,
            "margin": null,
            "max_height": null,
            "max_width": null,
            "min_height": null,
            "min_width": null,
            "object_fit": null,
            "object_position": null,
            "order": null,
            "overflow": null,
            "overflow_x": null,
            "overflow_y": null,
            "padding": null,
            "right": null,
            "top": null,
            "visibility": null,
            "width": null
          }
        },
        "4d2f7b561ed6441aabcb5e5ea5311c3f": {
          "model_module": "@jupyter-widgets/controls",
          "model_name": "ProgressStyleModel",
          "model_module_version": "1.5.0",
          "state": {
            "_model_module": "@jupyter-widgets/controls",
            "_model_module_version": "1.5.0",
            "_model_name": "ProgressStyleModel",
            "_view_count": null,
            "_view_module": "@jupyter-widgets/base",
            "_view_module_version": "1.2.0",
            "_view_name": "StyleView",
            "bar_color": null,
            "description_width": ""
          }
        },
        "c236a2051db544128392f731ae3e4144": {
          "model_module": "@jupyter-widgets/base",
          "model_name": "LayoutModel",
          "model_module_version": "1.2.0",
          "state": {
            "_model_module": "@jupyter-widgets/base",
            "_model_module_version": "1.2.0",
            "_model_name": "LayoutModel",
            "_view_count": null,
            "_view_module": "@jupyter-widgets/base",
            "_view_module_version": "1.2.0",
            "_view_name": "LayoutView",
            "align_content": null,
            "align_items": null,
            "align_self": null,
            "border": null,
            "bottom": null,
            "display": null,
            "flex": null,
            "flex_flow": null,
            "grid_area": null,
            "grid_auto_columns": null,
            "grid_auto_flow": null,
            "grid_auto_rows": null,
            "grid_column": null,
            "grid_gap": null,
            "grid_row": null,
            "grid_template_areas": null,
            "grid_template_columns": null,
            "grid_template_rows": null,
            "height": null,
            "justify_content": null,
            "justify_items": null,
            "left": null,
            "margin": null,
            "max_height": null,
            "max_width": null,
            "min_height": null,
            "min_width": null,
            "object_fit": null,
            "object_position": null,
            "order": null,
            "overflow": null,
            "overflow_x": null,
            "overflow_y": null,
            "padding": null,
            "right": null,
            "top": null,
            "visibility": null,
            "width": null
          }
        },
        "a7bba46ec1ac41c7a328a510e3f54206": {
          "model_module": "@jupyter-widgets/controls",
          "model_name": "DescriptionStyleModel",
          "model_module_version": "1.5.0",
          "state": {
            "_model_module": "@jupyter-widgets/controls",
            "_model_module_version": "1.5.0",
            "_model_name": "DescriptionStyleModel",
            "_view_count": null,
            "_view_module": "@jupyter-widgets/base",
            "_view_module_version": "1.2.0",
            "_view_name": "StyleView",
            "description_width": ""
          }
        },
        "6544c163e30e4d7ca6ef1e0d4d31e33d": {
          "model_module": "@jupyter-widgets/controls",
          "model_name": "HBoxModel",
          "model_module_version": "1.5.0",
          "state": {
            "_dom_classes": [],
            "_model_module": "@jupyter-widgets/controls",
            "_model_module_version": "1.5.0",
            "_model_name": "HBoxModel",
            "_view_count": null,
            "_view_module": "@jupyter-widgets/controls",
            "_view_module_version": "1.5.0",
            "_view_name": "HBoxView",
            "box_style": "",
            "children": [
              "IPY_MODEL_9c3cb51f93d14a5dabcd4cb90c8492b3",
              "IPY_MODEL_9df16eafd27044b3a4963aade9985628",
              "IPY_MODEL_e41f5edb88b141d78f1e6062a8ee8eff"
            ],
            "layout": "IPY_MODEL_a24c2eb477624e289ffe7f8815de7c53"
          }
        },
        "9c3cb51f93d14a5dabcd4cb90c8492b3": {
          "model_module": "@jupyter-widgets/controls",
          "model_name": "HTMLModel",
          "model_module_version": "1.5.0",
          "state": {
            "_dom_classes": [],
            "_model_module": "@jupyter-widgets/controls",
            "_model_module_version": "1.5.0",
            "_model_name": "HTMLModel",
            "_view_count": null,
            "_view_module": "@jupyter-widgets/controls",
            "_view_module_version": "1.5.0",
            "_view_name": "HTMLView",
            "description": "",
            "description_tooltip": null,
            "layout": "IPY_MODEL_63c7cfbbb58d4bf5adcd2710a99bffb5",
            "placeholder": "​",
            "style": "IPY_MODEL_1467729bdb6449c483e4da0af8e90007",
            "value": "config.json: 100%"
          }
        },
        "9df16eafd27044b3a4963aade9985628": {
          "model_module": "@jupyter-widgets/controls",
          "model_name": "FloatProgressModel",
          "model_module_version": "1.5.0",
          "state": {
            "_dom_classes": [],
            "_model_module": "@jupyter-widgets/controls",
            "_model_module_version": "1.5.0",
            "_model_name": "FloatProgressModel",
            "_view_count": null,
            "_view_module": "@jupyter-widgets/controls",
            "_view_module_version": "1.5.0",
            "_view_name": "ProgressView",
            "bar_style": "success",
            "description": "",
            "description_tooltip": null,
            "layout": "IPY_MODEL_77ef297c8b444a7c930e7fda040e34b3",
            "max": 570,
            "min": 0,
            "orientation": "horizontal",
            "style": "IPY_MODEL_5b762a215e474f27b3f156fbbf4493cf",
            "value": 570
          }
        },
        "e41f5edb88b141d78f1e6062a8ee8eff": {
          "model_module": "@jupyter-widgets/controls",
          "model_name": "HTMLModel",
          "model_module_version": "1.5.0",
          "state": {
            "_dom_classes": [],
            "_model_module": "@jupyter-widgets/controls",
            "_model_module_version": "1.5.0",
            "_model_name": "HTMLModel",
            "_view_count": null,
            "_view_module": "@jupyter-widgets/controls",
            "_view_module_version": "1.5.0",
            "_view_name": "HTMLView",
            "description": "",
            "description_tooltip": null,
            "layout": "IPY_MODEL_917d66e216e24d41ac0bf63316dfa3f8",
            "placeholder": "​",
            "style": "IPY_MODEL_1b824e97d90146fe939b1305d4dd8380",
            "value": " 570/570 [00:00&lt;00:00, 58.9kB/s]"
          }
        },
        "a24c2eb477624e289ffe7f8815de7c53": {
          "model_module": "@jupyter-widgets/base",
          "model_name": "LayoutModel",
          "model_module_version": "1.2.0",
          "state": {
            "_model_module": "@jupyter-widgets/base",
            "_model_module_version": "1.2.0",
            "_model_name": "LayoutModel",
            "_view_count": null,
            "_view_module": "@jupyter-widgets/base",
            "_view_module_version": "1.2.0",
            "_view_name": "LayoutView",
            "align_content": null,
            "align_items": null,
            "align_self": null,
            "border": null,
            "bottom": null,
            "display": null,
            "flex": null,
            "flex_flow": null,
            "grid_area": null,
            "grid_auto_columns": null,
            "grid_auto_flow": null,
            "grid_auto_rows": null,
            "grid_column": null,
            "grid_gap": null,
            "grid_row": null,
            "grid_template_areas": null,
            "grid_template_columns": null,
            "grid_template_rows": null,
            "height": null,
            "justify_content": null,
            "justify_items": null,
            "left": null,
            "margin": null,
            "max_height": null,
            "max_width": null,
            "min_height": null,
            "min_width": null,
            "object_fit": null,
            "object_position": null,
            "order": null,
            "overflow": null,
            "overflow_x": null,
            "overflow_y": null,
            "padding": null,
            "right": null,
            "top": null,
            "visibility": null,
            "width": null
          }
        },
        "63c7cfbbb58d4bf5adcd2710a99bffb5": {
          "model_module": "@jupyter-widgets/base",
          "model_name": "LayoutModel",
          "model_module_version": "1.2.0",
          "state": {
            "_model_module": "@jupyter-widgets/base",
            "_model_module_version": "1.2.0",
            "_model_name": "LayoutModel",
            "_view_count": null,
            "_view_module": "@jupyter-widgets/base",
            "_view_module_version": "1.2.0",
            "_view_name": "LayoutView",
            "align_content": null,
            "align_items": null,
            "align_self": null,
            "border": null,
            "bottom": null,
            "display": null,
            "flex": null,
            "flex_flow": null,
            "grid_area": null,
            "grid_auto_columns": null,
            "grid_auto_flow": null,
            "grid_auto_rows": null,
            "grid_column": null,
            "grid_gap": null,
            "grid_row": null,
            "grid_template_areas": null,
            "grid_template_columns": null,
            "grid_template_rows": null,
            "height": null,
            "justify_content": null,
            "justify_items": null,
            "left": null,
            "margin": null,
            "max_height": null,
            "max_width": null,
            "min_height": null,
            "min_width": null,
            "object_fit": null,
            "object_position": null,
            "order": null,
            "overflow": null,
            "overflow_x": null,
            "overflow_y": null,
            "padding": null,
            "right": null,
            "top": null,
            "visibility": null,
            "width": null
          }
        },
        "1467729bdb6449c483e4da0af8e90007": {
          "model_module": "@jupyter-widgets/controls",
          "model_name": "DescriptionStyleModel",
          "model_module_version": "1.5.0",
          "state": {
            "_model_module": "@jupyter-widgets/controls",
            "_model_module_version": "1.5.0",
            "_model_name": "DescriptionStyleModel",
            "_view_count": null,
            "_view_module": "@jupyter-widgets/base",
            "_view_module_version": "1.2.0",
            "_view_name": "StyleView",
            "description_width": ""
          }
        },
        "77ef297c8b444a7c930e7fda040e34b3": {
          "model_module": "@jupyter-widgets/base",
          "model_name": "LayoutModel",
          "model_module_version": "1.2.0",
          "state": {
            "_model_module": "@jupyter-widgets/base",
            "_model_module_version": "1.2.0",
            "_model_name": "LayoutModel",
            "_view_count": null,
            "_view_module": "@jupyter-widgets/base",
            "_view_module_version": "1.2.0",
            "_view_name": "LayoutView",
            "align_content": null,
            "align_items": null,
            "align_self": null,
            "border": null,
            "bottom": null,
            "display": null,
            "flex": null,
            "flex_flow": null,
            "grid_area": null,
            "grid_auto_columns": null,
            "grid_auto_flow": null,
            "grid_auto_rows": null,
            "grid_column": null,
            "grid_gap": null,
            "grid_row": null,
            "grid_template_areas": null,
            "grid_template_columns": null,
            "grid_template_rows": null,
            "height": null,
            "justify_content": null,
            "justify_items": null,
            "left": null,
            "margin": null,
            "max_height": null,
            "max_width": null,
            "min_height": null,
            "min_width": null,
            "object_fit": null,
            "object_position": null,
            "order": null,
            "overflow": null,
            "overflow_x": null,
            "overflow_y": null,
            "padding": null,
            "right": null,
            "top": null,
            "visibility": null,
            "width": null
          }
        },
        "5b762a215e474f27b3f156fbbf4493cf": {
          "model_module": "@jupyter-widgets/controls",
          "model_name": "ProgressStyleModel",
          "model_module_version": "1.5.0",
          "state": {
            "_model_module": "@jupyter-widgets/controls",
            "_model_module_version": "1.5.0",
            "_model_name": "ProgressStyleModel",
            "_view_count": null,
            "_view_module": "@jupyter-widgets/base",
            "_view_module_version": "1.2.0",
            "_view_name": "StyleView",
            "bar_color": null,
            "description_width": ""
          }
        },
        "917d66e216e24d41ac0bf63316dfa3f8": {
          "model_module": "@jupyter-widgets/base",
          "model_name": "LayoutModel",
          "model_module_version": "1.2.0",
          "state": {
            "_model_module": "@jupyter-widgets/base",
            "_model_module_version": "1.2.0",
            "_model_name": "LayoutModel",
            "_view_count": null,
            "_view_module": "@jupyter-widgets/base",
            "_view_module_version": "1.2.0",
            "_view_name": "LayoutView",
            "align_content": null,
            "align_items": null,
            "align_self": null,
            "border": null,
            "bottom": null,
            "display": null,
            "flex": null,
            "flex_flow": null,
            "grid_area": null,
            "grid_auto_columns": null,
            "grid_auto_flow": null,
            "grid_auto_rows": null,
            "grid_column": null,
            "grid_gap": null,
            "grid_row": null,
            "grid_template_areas": null,
            "grid_template_columns": null,
            "grid_template_rows": null,
            "height": null,
            "justify_content": null,
            "justify_items": null,
            "left": null,
            "margin": null,
            "max_height": null,
            "max_width": null,
            "min_height": null,
            "min_width": null,
            "object_fit": null,
            "object_position": null,
            "order": null,
            "overflow": null,
            "overflow_x": null,
            "overflow_y": null,
            "padding": null,
            "right": null,
            "top": null,
            "visibility": null,
            "width": null
          }
        },
        "1b824e97d90146fe939b1305d4dd8380": {
          "model_module": "@jupyter-widgets/controls",
          "model_name": "DescriptionStyleModel",
          "model_module_version": "1.5.0",
          "state": {
            "_model_module": "@jupyter-widgets/controls",
            "_model_module_version": "1.5.0",
            "_model_name": "DescriptionStyleModel",
            "_view_count": null,
            "_view_module": "@jupyter-widgets/base",
            "_view_module_version": "1.2.0",
            "_view_name": "StyleView",
            "description_width": ""
          }
        },
        "c3eabe3e2eb94e789e0f0422e23fa87b": {
          "model_module": "@jupyter-widgets/controls",
          "model_name": "HBoxModel",
          "model_module_version": "1.5.0",
          "state": {
            "_dom_classes": [],
            "_model_module": "@jupyter-widgets/controls",
            "_model_module_version": "1.5.0",
            "_model_name": "HBoxModel",
            "_view_count": null,
            "_view_module": "@jupyter-widgets/controls",
            "_view_module_version": "1.5.0",
            "_view_name": "HBoxView",
            "box_style": "",
            "children": [
              "IPY_MODEL_1fba928484244776b03700306174a665",
              "IPY_MODEL_ecf5233444a14c6c824843167927e31b",
              "IPY_MODEL_473cfb10469a468d9d9d47fade86821d"
            ],
            "layout": "IPY_MODEL_f54830221018436ea0f96f49f7522323"
          }
        },
        "1fba928484244776b03700306174a665": {
          "model_module": "@jupyter-widgets/controls",
          "model_name": "HTMLModel",
          "model_module_version": "1.5.0",
          "state": {
            "_dom_classes": [],
            "_model_module": "@jupyter-widgets/controls",
            "_model_module_version": "1.5.0",
            "_model_name": "HTMLModel",
            "_view_count": null,
            "_view_module": "@jupyter-widgets/controls",
            "_view_module_version": "1.5.0",
            "_view_name": "HTMLView",
            "description": "",
            "description_tooltip": null,
            "layout": "IPY_MODEL_a30030cd63d74952b2b6130df7bfbb1d",
            "placeholder": "​",
            "style": "IPY_MODEL_1f2cc8fb11644793988108bb322af6b9",
            "value": "model.safetensors: 100%"
          }
        },
        "ecf5233444a14c6c824843167927e31b": {
          "model_module": "@jupyter-widgets/controls",
          "model_name": "FloatProgressModel",
          "model_module_version": "1.5.0",
          "state": {
            "_dom_classes": [],
            "_model_module": "@jupyter-widgets/controls",
            "_model_module_version": "1.5.0",
            "_model_name": "FloatProgressModel",
            "_view_count": null,
            "_view_module": "@jupyter-widgets/controls",
            "_view_module_version": "1.5.0",
            "_view_name": "ProgressView",
            "bar_style": "success",
            "description": "",
            "description_tooltip": null,
            "layout": "IPY_MODEL_91c7537463074363ae76404ff0242767",
            "max": 440449768,
            "min": 0,
            "orientation": "horizontal",
            "style": "IPY_MODEL_7649da28abc143b988b3015f4a2b4f09",
            "value": 440449768
          }
        },
        "473cfb10469a468d9d9d47fade86821d": {
          "model_module": "@jupyter-widgets/controls",
          "model_name": "HTMLModel",
          "model_module_version": "1.5.0",
          "state": {
            "_dom_classes": [],
            "_model_module": "@jupyter-widgets/controls",
            "_model_module_version": "1.5.0",
            "_model_name": "HTMLModel",
            "_view_count": null,
            "_view_module": "@jupyter-widgets/controls",
            "_view_module_version": "1.5.0",
            "_view_name": "HTMLView",
            "description": "",
            "description_tooltip": null,
            "layout": "IPY_MODEL_3dcd1ed8494d41d7891e6f2e5ac671ad",
            "placeholder": "​",
            "style": "IPY_MODEL_53b9b26856de4373a2f7d25f12bd88b9",
            "value": " 440M/440M [00:01&lt;00:00, 370MB/s]"
          }
        },
        "f54830221018436ea0f96f49f7522323": {
          "model_module": "@jupyter-widgets/base",
          "model_name": "LayoutModel",
          "model_module_version": "1.2.0",
          "state": {
            "_model_module": "@jupyter-widgets/base",
            "_model_module_version": "1.2.0",
            "_model_name": "LayoutModel",
            "_view_count": null,
            "_view_module": "@jupyter-widgets/base",
            "_view_module_version": "1.2.0",
            "_view_name": "LayoutView",
            "align_content": null,
            "align_items": null,
            "align_self": null,
            "border": null,
            "bottom": null,
            "display": null,
            "flex": null,
            "flex_flow": null,
            "grid_area": null,
            "grid_auto_columns": null,
            "grid_auto_flow": null,
            "grid_auto_rows": null,
            "grid_column": null,
            "grid_gap": null,
            "grid_row": null,
            "grid_template_areas": null,
            "grid_template_columns": null,
            "grid_template_rows": null,
            "height": null,
            "justify_content": null,
            "justify_items": null,
            "left": null,
            "margin": null,
            "max_height": null,
            "max_width": null,
            "min_height": null,
            "min_width": null,
            "object_fit": null,
            "object_position": null,
            "order": null,
            "overflow": null,
            "overflow_x": null,
            "overflow_y": null,
            "padding": null,
            "right": null,
            "top": null,
            "visibility": null,
            "width": null
          }
        },
        "a30030cd63d74952b2b6130df7bfbb1d": {
          "model_module": "@jupyter-widgets/base",
          "model_name": "LayoutModel",
          "model_module_version": "1.2.0",
          "state": {
            "_model_module": "@jupyter-widgets/base",
            "_model_module_version": "1.2.0",
            "_model_name": "LayoutModel",
            "_view_count": null,
            "_view_module": "@jupyter-widgets/base",
            "_view_module_version": "1.2.0",
            "_view_name": "LayoutView",
            "align_content": null,
            "align_items": null,
            "align_self": null,
            "border": null,
            "bottom": null,
            "display": null,
            "flex": null,
            "flex_flow": null,
            "grid_area": null,
            "grid_auto_columns": null,
            "grid_auto_flow": null,
            "grid_auto_rows": null,
            "grid_column": null,
            "grid_gap": null,
            "grid_row": null,
            "grid_template_areas": null,
            "grid_template_columns": null,
            "grid_template_rows": null,
            "height": null,
            "justify_content": null,
            "justify_items": null,
            "left": null,
            "margin": null,
            "max_height": null,
            "max_width": null,
            "min_height": null,
            "min_width": null,
            "object_fit": null,
            "object_position": null,
            "order": null,
            "overflow": null,
            "overflow_x": null,
            "overflow_y": null,
            "padding": null,
            "right": null,
            "top": null,
            "visibility": null,
            "width": null
          }
        },
        "1f2cc8fb11644793988108bb322af6b9": {
          "model_module": "@jupyter-widgets/controls",
          "model_name": "DescriptionStyleModel",
          "model_module_version": "1.5.0",
          "state": {
            "_model_module": "@jupyter-widgets/controls",
            "_model_module_version": "1.5.0",
            "_model_name": "DescriptionStyleModel",
            "_view_count": null,
            "_view_module": "@jupyter-widgets/base",
            "_view_module_version": "1.2.0",
            "_view_name": "StyleView",
            "description_width": ""
          }
        },
        "91c7537463074363ae76404ff0242767": {
          "model_module": "@jupyter-widgets/base",
          "model_name": "LayoutModel",
          "model_module_version": "1.2.0",
          "state": {
            "_model_module": "@jupyter-widgets/base",
            "_model_module_version": "1.2.0",
            "_model_name": "LayoutModel",
            "_view_count": null,
            "_view_module": "@jupyter-widgets/base",
            "_view_module_version": "1.2.0",
            "_view_name": "LayoutView",
            "align_content": null,
            "align_items": null,
            "align_self": null,
            "border": null,
            "bottom": null,
            "display": null,
            "flex": null,
            "flex_flow": null,
            "grid_area": null,
            "grid_auto_columns": null,
            "grid_auto_flow": null,
            "grid_auto_rows": null,
            "grid_column": null,
            "grid_gap": null,
            "grid_row": null,
            "grid_template_areas": null,
            "grid_template_columns": null,
            "grid_template_rows": null,
            "height": null,
            "justify_content": null,
            "justify_items": null,
            "left": null,
            "margin": null,
            "max_height": null,
            "max_width": null,
            "min_height": null,
            "min_width": null,
            "object_fit": null,
            "object_position": null,
            "order": null,
            "overflow": null,
            "overflow_x": null,
            "overflow_y": null,
            "padding": null,
            "right": null,
            "top": null,
            "visibility": null,
            "width": null
          }
        },
        "7649da28abc143b988b3015f4a2b4f09": {
          "model_module": "@jupyter-widgets/controls",
          "model_name": "ProgressStyleModel",
          "model_module_version": "1.5.0",
          "state": {
            "_model_module": "@jupyter-widgets/controls",
            "_model_module_version": "1.5.0",
            "_model_name": "ProgressStyleModel",
            "_view_count": null,
            "_view_module": "@jupyter-widgets/base",
            "_view_module_version": "1.2.0",
            "_view_name": "StyleView",
            "bar_color": null,
            "description_width": ""
          }
        },
        "3dcd1ed8494d41d7891e6f2e5ac671ad": {
          "model_module": "@jupyter-widgets/base",
          "model_name": "LayoutModel",
          "model_module_version": "1.2.0",
          "state": {
            "_model_module": "@jupyter-widgets/base",
            "_model_module_version": "1.2.0",
            "_model_name": "LayoutModel",
            "_view_count": null,
            "_view_module": "@jupyter-widgets/base",
            "_view_module_version": "1.2.0",
            "_view_name": "LayoutView",
            "align_content": null,
            "align_items": null,
            "align_self": null,
            "border": null,
            "bottom": null,
            "display": null,
            "flex": null,
            "flex_flow": null,
            "grid_area": null,
            "grid_auto_columns": null,
            "grid_auto_flow": null,
            "grid_auto_rows": null,
            "grid_column": null,
            "grid_gap": null,
            "grid_row": null,
            "grid_template_areas": null,
            "grid_template_columns": null,
            "grid_template_rows": null,
            "height": null,
            "justify_content": null,
            "justify_items": null,
            "left": null,
            "margin": null,
            "max_height": null,
            "max_width": null,
            "min_height": null,
            "min_width": null,
            "object_fit": null,
            "object_position": null,
            "order": null,
            "overflow": null,
            "overflow_x": null,
            "overflow_y": null,
            "padding": null,
            "right": null,
            "top": null,
            "visibility": null,
            "width": null
          }
        },
        "53b9b26856de4373a2f7d25f12bd88b9": {
          "model_module": "@jupyter-widgets/controls",
          "model_name": "DescriptionStyleModel",
          "model_module_version": "1.5.0",
          "state": {
            "_model_module": "@jupyter-widgets/controls",
            "_model_module_version": "1.5.0",
            "_model_name": "DescriptionStyleModel",
            "_view_count": null,
            "_view_module": "@jupyter-widgets/base",
            "_view_module_version": "1.2.0",
            "_view_name": "StyleView",
            "description_width": ""
          }
        }
      }
    }
  },
  "cells": [
    {
      "cell_type": "markdown",
      "source": [
        "# Bayesian Neural Network Pipeline for LIAR Dataset\n"
      ],
      "metadata": {
        "id": "gyqZCd26Wkxt"
      }
    },
    {
      "cell_type": "code",
      "source": [
        "from google.colab import drive\n",
        "drive.mount('/content/drive')"
      ],
      "metadata": {
        "colab": {
          "base_uri": "https://localhost:8080/"
        },
        "id": "BjDwLWrQHWWy",
        "outputId": "77e65c22-3211-467c-e5c2-dafc3c38a813"
      },
      "execution_count": null,
      "outputs": [
        {
          "output_type": "stream",
          "name": "stdout",
          "text": [
            "Mounted at /content/drive\n"
          ]
        }
      ]
    },
    {
      "cell_type": "markdown",
      "source": [
        "## Load and Preprocess Data"
      ],
      "metadata": {
        "id": "W_n1m7aPWmId"
      }
    },
    {
      "cell_type": "code",
      "source": [
        "!pip install pyro-ppl"
      ],
      "metadata": {
        "id": "cZyfwzjNXHdC",
        "collapsed": true,
        "colab": {
          "base_uri": "https://localhost:8080/"
        },
        "outputId": "efabde44-2783-44e5-f253-ad7870b49bd5"
      },
      "execution_count": null,
      "outputs": [
        {
          "output_type": "stream",
          "name": "stdout",
          "text": [
            "Collecting pyro-ppl\n",
            "  Downloading pyro_ppl-1.9.1-py3-none-any.whl.metadata (7.8 kB)\n",
            "Requirement already satisfied: numpy>=1.7 in /usr/local/lib/python3.11/dist-packages (from pyro-ppl) (2.0.2)\n",
            "Requirement already satisfied: opt-einsum>=2.3.2 in /usr/local/lib/python3.11/dist-packages (from pyro-ppl) (3.4.0)\n",
            "Collecting pyro-api>=0.1.1 (from pyro-ppl)\n",
            "  Downloading pyro_api-0.1.2-py3-none-any.whl.metadata (2.5 kB)\n",
            "Requirement already satisfied: torch>=2.0 in /usr/local/lib/python3.11/dist-packages (from pyro-ppl) (2.6.0+cu124)\n",
            "Requirement already satisfied: tqdm>=4.36 in /usr/local/lib/python3.11/dist-packages (from pyro-ppl) (4.67.1)\n",
            "Requirement already satisfied: filelock in /usr/local/lib/python3.11/dist-packages (from torch>=2.0->pyro-ppl) (3.18.0)\n",
            "Requirement already satisfied: typing-extensions>=4.10.0 in /usr/local/lib/python3.11/dist-packages (from torch>=2.0->pyro-ppl) (4.13.2)\n",
            "Requirement already satisfied: networkx in /usr/local/lib/python3.11/dist-packages (from torch>=2.0->pyro-ppl) (3.4.2)\n",
            "Requirement already satisfied: jinja2 in /usr/local/lib/python3.11/dist-packages (from torch>=2.0->pyro-ppl) (3.1.6)\n",
            "Requirement already satisfied: fsspec in /usr/local/lib/python3.11/dist-packages (from torch>=2.0->pyro-ppl) (2025.3.2)\n",
            "Collecting nvidia-cuda-nvrtc-cu12==12.4.127 (from torch>=2.0->pyro-ppl)\n",
            "  Downloading nvidia_cuda_nvrtc_cu12-12.4.127-py3-none-manylinux2014_x86_64.whl.metadata (1.5 kB)\n",
            "Collecting nvidia-cuda-runtime-cu12==12.4.127 (from torch>=2.0->pyro-ppl)\n",
            "  Downloading nvidia_cuda_runtime_cu12-12.4.127-py3-none-manylinux2014_x86_64.whl.metadata (1.5 kB)\n",
            "Collecting nvidia-cuda-cupti-cu12==12.4.127 (from torch>=2.0->pyro-ppl)\n",
            "  Downloading nvidia_cuda_cupti_cu12-12.4.127-py3-none-manylinux2014_x86_64.whl.metadata (1.6 kB)\n",
            "Collecting nvidia-cudnn-cu12==9.1.0.70 (from torch>=2.0->pyro-ppl)\n",
            "  Downloading nvidia_cudnn_cu12-9.1.0.70-py3-none-manylinux2014_x86_64.whl.metadata (1.6 kB)\n",
            "Collecting nvidia-cublas-cu12==12.4.5.8 (from torch>=2.0->pyro-ppl)\n",
            "  Downloading nvidia_cublas_cu12-12.4.5.8-py3-none-manylinux2014_x86_64.whl.metadata (1.5 kB)\n",
            "Collecting nvidia-cufft-cu12==11.2.1.3 (from torch>=2.0->pyro-ppl)\n",
            "  Downloading nvidia_cufft_cu12-11.2.1.3-py3-none-manylinux2014_x86_64.whl.metadata (1.5 kB)\n",
            "Collecting nvidia-curand-cu12==10.3.5.147 (from torch>=2.0->pyro-ppl)\n",
            "  Downloading nvidia_curand_cu12-10.3.5.147-py3-none-manylinux2014_x86_64.whl.metadata (1.5 kB)\n",
            "Collecting nvidia-cusolver-cu12==11.6.1.9 (from torch>=2.0->pyro-ppl)\n",
            "  Downloading nvidia_cusolver_cu12-11.6.1.9-py3-none-manylinux2014_x86_64.whl.metadata (1.6 kB)\n",
            "Collecting nvidia-cusparse-cu12==12.3.1.170 (from torch>=2.0->pyro-ppl)\n",
            "  Downloading nvidia_cusparse_cu12-12.3.1.170-py3-none-manylinux2014_x86_64.whl.metadata (1.6 kB)\n",
            "Requirement already satisfied: nvidia-cusparselt-cu12==0.6.2 in /usr/local/lib/python3.11/dist-packages (from torch>=2.0->pyro-ppl) (0.6.2)\n",
            "Requirement already satisfied: nvidia-nccl-cu12==2.21.5 in /usr/local/lib/python3.11/dist-packages (from torch>=2.0->pyro-ppl) (2.21.5)\n",
            "Requirement already satisfied: nvidia-nvtx-cu12==12.4.127 in /usr/local/lib/python3.11/dist-packages (from torch>=2.0->pyro-ppl) (12.4.127)\n",
            "Collecting nvidia-nvjitlink-cu12==12.4.127 (from torch>=2.0->pyro-ppl)\n",
            "  Downloading nvidia_nvjitlink_cu12-12.4.127-py3-none-manylinux2014_x86_64.whl.metadata (1.5 kB)\n",
            "Requirement already satisfied: triton==3.2.0 in /usr/local/lib/python3.11/dist-packages (from torch>=2.0->pyro-ppl) (3.2.0)\n",
            "Requirement already satisfied: sympy==1.13.1 in /usr/local/lib/python3.11/dist-packages (from torch>=2.0->pyro-ppl) (1.13.1)\n",
            "Requirement already satisfied: mpmath<1.4,>=1.1.0 in /usr/local/lib/python3.11/dist-packages (from sympy==1.13.1->torch>=2.0->pyro-ppl) (1.3.0)\n",
            "Requirement already satisfied: MarkupSafe>=2.0 in /usr/local/lib/python3.11/dist-packages (from jinja2->torch>=2.0->pyro-ppl) (3.0.2)\n",
            "Downloading pyro_ppl-1.9.1-py3-none-any.whl (755 kB)\n",
            "\u001b[2K   \u001b[90m━━━━━━━━━━━━━━━━━━━━━━━━━━━━━━━━━━━━━━━━\u001b[0m \u001b[32m756.0/756.0 kB\u001b[0m \u001b[31m30.3 MB/s\u001b[0m eta \u001b[36m0:00:00\u001b[0m\n",
            "\u001b[?25hDownloading pyro_api-0.1.2-py3-none-any.whl (11 kB)\n",
            "Downloading nvidia_cublas_cu12-12.4.5.8-py3-none-manylinux2014_x86_64.whl (363.4 MB)\n",
            "\u001b[2K   \u001b[90m━━━━━━━━━━━━━━━━━━━━━━━━━━━━━━━━━━━━━━━━\u001b[0m \u001b[32m363.4/363.4 MB\u001b[0m \u001b[31m2.5 MB/s\u001b[0m eta \u001b[36m0:00:00\u001b[0m\n",
            "\u001b[?25hDownloading nvidia_cuda_cupti_cu12-12.4.127-py3-none-manylinux2014_x86_64.whl (13.8 MB)\n",
            "\u001b[2K   \u001b[90m━━━━━━━━━━━━━━━━━━━━━━━━━━━━━━━━━━━━━━━━\u001b[0m \u001b[32m13.8/13.8 MB\u001b[0m \u001b[31m115.0 MB/s\u001b[0m eta \u001b[36m0:00:00\u001b[0m\n",
            "\u001b[?25hDownloading nvidia_cuda_nvrtc_cu12-12.4.127-py3-none-manylinux2014_x86_64.whl (24.6 MB)\n",
            "\u001b[2K   \u001b[90m━━━━━━━━━━━━━━━━━━━━━━━━━━━━━━━━━━━━━━━━\u001b[0m \u001b[32m24.6/24.6 MB\u001b[0m \u001b[31m96.8 MB/s\u001b[0m eta \u001b[36m0:00:00\u001b[0m\n",
            "\u001b[?25hDownloading nvidia_cuda_runtime_cu12-12.4.127-py3-none-manylinux2014_x86_64.whl (883 kB)\n",
            "\u001b[2K   \u001b[90m━━━━━━━━━━━━━━━━━━━━━━━━━━━━━━━━━━━━━━━━\u001b[0m \u001b[32m883.7/883.7 kB\u001b[0m \u001b[31m63.6 MB/s\u001b[0m eta \u001b[36m0:00:00\u001b[0m\n",
            "\u001b[?25hDownloading nvidia_cudnn_cu12-9.1.0.70-py3-none-manylinux2014_x86_64.whl (664.8 MB)\n",
            "\u001b[2K   \u001b[90m━━━━━━━━━━━━━━━━━━━━━━━━━━━━━━━━━━━━━━━━\u001b[0m \u001b[32m664.8/664.8 MB\u001b[0m \u001b[31m1.4 MB/s\u001b[0m eta \u001b[36m0:00:00\u001b[0m\n",
            "\u001b[?25hDownloading nvidia_cufft_cu12-11.2.1.3-py3-none-manylinux2014_x86_64.whl (211.5 MB)\n",
            "\u001b[2K   \u001b[90m━━━━━━━━━━━━━━━━━━━━━━━━━━━━━━━━━━━━━━━━\u001b[0m \u001b[32m211.5/211.5 MB\u001b[0m \u001b[31m6.7 MB/s\u001b[0m eta \u001b[36m0:00:00\u001b[0m\n",
            "\u001b[?25hDownloading nvidia_curand_cu12-10.3.5.147-py3-none-manylinux2014_x86_64.whl (56.3 MB)\n",
            "\u001b[2K   \u001b[90m━━━━━━━━━━━━━━━━━━━━━━━━━━━━━━━━━━━━━━━━\u001b[0m \u001b[32m56.3/56.3 MB\u001b[0m \u001b[31m34.3 MB/s\u001b[0m eta \u001b[36m0:00:00\u001b[0m\n",
            "\u001b[?25hDownloading nvidia_cusolver_cu12-11.6.1.9-py3-none-manylinux2014_x86_64.whl (127.9 MB)\n",
            "\u001b[2K   \u001b[90m━━━━━━━━━━━━━━━━━━━━━━━━━━━━━━━━━━━━━━━━\u001b[0m \u001b[32m127.9/127.9 MB\u001b[0m \u001b[31m16.5 MB/s\u001b[0m eta \u001b[36m0:00:00\u001b[0m\n",
            "\u001b[?25hDownloading nvidia_cusparse_cu12-12.3.1.170-py3-none-manylinux2014_x86_64.whl (207.5 MB)\n",
            "\u001b[2K   \u001b[90m━━━━━━━━━━━━━━━━━━━━━━━━━━━━━━━━━━━━━━━━\u001b[0m \u001b[32m207.5/207.5 MB\u001b[0m \u001b[31m2.7 MB/s\u001b[0m eta \u001b[36m0:00:00\u001b[0m\n",
            "\u001b[?25hDownloading nvidia_nvjitlink_cu12-12.4.127-py3-none-manylinux2014_x86_64.whl (21.1 MB)\n",
            "\u001b[2K   \u001b[90m━━━━━━━━━━━━━━━━━━━━━━━━━━━━━━━━━━━━━━━━\u001b[0m \u001b[32m21.1/21.1 MB\u001b[0m \u001b[31m103.2 MB/s\u001b[0m eta \u001b[36m0:00:00\u001b[0m\n",
            "\u001b[?25hInstalling collected packages: pyro-api, nvidia-nvjitlink-cu12, nvidia-curand-cu12, nvidia-cufft-cu12, nvidia-cuda-runtime-cu12, nvidia-cuda-nvrtc-cu12, nvidia-cuda-cupti-cu12, nvidia-cublas-cu12, nvidia-cusparse-cu12, nvidia-cudnn-cu12, nvidia-cusolver-cu12, pyro-ppl\n",
            "  Attempting uninstall: nvidia-nvjitlink-cu12\n",
            "    Found existing installation: nvidia-nvjitlink-cu12 12.5.82\n",
            "    Uninstalling nvidia-nvjitlink-cu12-12.5.82:\n",
            "      Successfully uninstalled nvidia-nvjitlink-cu12-12.5.82\n",
            "  Attempting uninstall: nvidia-curand-cu12\n",
            "    Found existing installation: nvidia-curand-cu12 10.3.6.82\n",
            "    Uninstalling nvidia-curand-cu12-10.3.6.82:\n",
            "      Successfully uninstalled nvidia-curand-cu12-10.3.6.82\n",
            "  Attempting uninstall: nvidia-cufft-cu12\n",
            "    Found existing installation: nvidia-cufft-cu12 11.2.3.61\n",
            "    Uninstalling nvidia-cufft-cu12-11.2.3.61:\n",
            "      Successfully uninstalled nvidia-cufft-cu12-11.2.3.61\n",
            "  Attempting uninstall: nvidia-cuda-runtime-cu12\n",
            "    Found existing installation: nvidia-cuda-runtime-cu12 12.5.82\n",
            "    Uninstalling nvidia-cuda-runtime-cu12-12.5.82:\n",
            "      Successfully uninstalled nvidia-cuda-runtime-cu12-12.5.82\n",
            "  Attempting uninstall: nvidia-cuda-nvrtc-cu12\n",
            "    Found existing installation: nvidia-cuda-nvrtc-cu12 12.5.82\n",
            "    Uninstalling nvidia-cuda-nvrtc-cu12-12.5.82:\n",
            "      Successfully uninstalled nvidia-cuda-nvrtc-cu12-12.5.82\n",
            "  Attempting uninstall: nvidia-cuda-cupti-cu12\n",
            "    Found existing installation: nvidia-cuda-cupti-cu12 12.5.82\n",
            "    Uninstalling nvidia-cuda-cupti-cu12-12.5.82:\n",
            "      Successfully uninstalled nvidia-cuda-cupti-cu12-12.5.82\n",
            "  Attempting uninstall: nvidia-cublas-cu12\n",
            "    Found existing installation: nvidia-cublas-cu12 12.5.3.2\n",
            "    Uninstalling nvidia-cublas-cu12-12.5.3.2:\n",
            "      Successfully uninstalled nvidia-cublas-cu12-12.5.3.2\n",
            "  Attempting uninstall: nvidia-cusparse-cu12\n",
            "    Found existing installation: nvidia-cusparse-cu12 12.5.1.3\n",
            "    Uninstalling nvidia-cusparse-cu12-12.5.1.3:\n",
            "      Successfully uninstalled nvidia-cusparse-cu12-12.5.1.3\n",
            "  Attempting uninstall: nvidia-cudnn-cu12\n",
            "    Found existing installation: nvidia-cudnn-cu12 9.3.0.75\n",
            "    Uninstalling nvidia-cudnn-cu12-9.3.0.75:\n",
            "      Successfully uninstalled nvidia-cudnn-cu12-9.3.0.75\n",
            "  Attempting uninstall: nvidia-cusolver-cu12\n",
            "    Found existing installation: nvidia-cusolver-cu12 11.6.3.83\n",
            "    Uninstalling nvidia-cusolver-cu12-11.6.3.83:\n",
            "      Successfully uninstalled nvidia-cusolver-cu12-11.6.3.83\n",
            "Successfully installed nvidia-cublas-cu12-12.4.5.8 nvidia-cuda-cupti-cu12-12.4.127 nvidia-cuda-nvrtc-cu12-12.4.127 nvidia-cuda-runtime-cu12-12.4.127 nvidia-cudnn-cu12-9.1.0.70 nvidia-cufft-cu12-11.2.1.3 nvidia-curand-cu12-10.3.5.147 nvidia-cusolver-cu12-11.6.1.9 nvidia-cusparse-cu12-12.3.1.170 nvidia-nvjitlink-cu12-12.4.127 pyro-api-0.1.2 pyro-ppl-1.9.1\n"
          ]
        }
      ]
    },
    {
      "cell_type": "code",
      "execution_count": null,
      "metadata": {
        "id": "Q2utW8M-WglH"
      },
      "outputs": [],
      "source": [
        "import pandas as pd\n",
        "import torch\n",
        "import torch.nn as nn\n",
        "import torch.nn.functional as F\n",
        "from sklearn.preprocessing import LabelEncoder\n",
        "from transformers import BertTokenizer, BertModel\n",
        "from torch.utils.data import Dataset, DataLoader\n",
        "import pyro\n",
        "import pyro.distributions as dist\n",
        "from pyro.nn import PyroModule, PyroSample\n",
        "from pyro.infer import SVI, Trace_ELBO, TraceMeanField_ELBO\n",
        "from pyro import poutine\n",
        "from pyro.infer.autoguide import AutoDiagonalNormal\n",
        "from pyro.optim import ClippedAdam"
      ]
    },
    {
      "cell_type": "code",
      "source": [
        "def load_and_preprocess(path):\n",
        "    columns = [\n",
        "        'id', 'label', 'statement', 'subject', 'speaker', 'job', 'state', 'party',\n",
        "        'barely_true_counts', 'false_counts', 'half_true_counts',\n",
        "        'mostly_true_counts', 'pants_on_fire_counts', 'context']\n",
        "    df = pd.read_csv(path, sep='\\t', header=None, names=columns)\n",
        "    label_map = {'pants-fire': 0, 'false': 0, 'barely-true': 0, 'half-true': 0, 'mostly-true': 1, 'true': 1}\n",
        "    df['label'] = df['label'].map(label_map)\n",
        "    metadata_cols = ['speaker', 'job', 'state', 'party', 'context']\n",
        "    df[metadata_cols] = df[metadata_cols].fillna('unknown')\n",
        "    return df\n",
        "\n",
        "train_df = load_and_preprocess('/content/drive/MyDrive/Colab Notebooks/Datasets/liar_dataset/train.tsv')\n",
        "valid_df = load_and_preprocess('/content/drive/MyDrive/Colab Notebooks/Datasets/liar_dataset/valid.tsv')\n",
        "test_df = load_and_preprocess('/content/drive/MyDrive/Colab Notebooks/Datasets/liar_dataset/test.tsv')"
      ],
      "metadata": {
        "id": "jK0IMSbPWj9-"
      },
      "execution_count": null,
      "outputs": []
    },
    {
      "cell_type": "markdown",
      "source": [
        "## Encode metadata\n"
      ],
      "metadata": {
        "id": "J7pcgaSavdde"
      }
    },
    {
      "cell_type": "code",
      "source": [
        "metadata_cols = ['speaker', 'job', 'state', 'party', 'context']\n",
        "label_encoders = {}\n",
        "for col in metadata_cols:\n",
        "    le = LabelEncoder()\n",
        "    combined = pd.concat([train_df[col], valid_df[col], test_df[col]])\n",
        "    le.fit(combined)\n",
        "    label_encoders[col] = le\n",
        "    for df in [train_df, valid_df, test_df]:\n",
        "        df[col + '_enc'] = le.transform(df[col])"
      ],
      "metadata": {
        "id": "kLho4o9gWvsF"
      },
      "execution_count": null,
      "outputs": []
    },
    {
      "cell_type": "code",
      "source": [
        "credit_cols = [\n",
        "    'barely_true_counts', 'false_counts', 'half_true_counts',\n",
        "    'mostly_true_counts', 'pants_on_fire_counts']\n",
        "for df in [train_df, valid_df, test_df]:\n",
        "    df[credit_cols] = df[credit_cols].apply(pd.to_numeric, errors='coerce').fillna(0)"
      ],
      "metadata": {
        "id": "s-m8QLxMW098"
      },
      "execution_count": null,
      "outputs": []
    },
    {
      "cell_type": "markdown",
      "source": [
        "## Tokenization"
      ],
      "metadata": {
        "id": "FFyOW0ZWWw9X"
      }
    },
    {
      "cell_type": "code",
      "source": [
        "tokenizer = BertTokenizer.from_pretrained('bert-base-uncased')\n",
        "\n",
        "class LIARDataset(Dataset):\n",
        "    def __init__(self, df):\n",
        "        self.texts = list(df['statement'])\n",
        "        self.metadata = df[[col + '_enc' for col in metadata_cols] + credit_cols].values\n",
        "        self.labels = list(df['label'])\n",
        "\n",
        "    def __len__(self):\n",
        "        return len(self.labels)\n",
        "\n",
        "    def __getitem__(self, idx):\n",
        "        encoded = tokenizer(self.texts[idx], padding='max_length', truncation=True, max_length=64, return_tensors='pt')\n",
        "        return {\n",
        "            'input_ids': encoded['input_ids'].squeeze(0),\n",
        "            'attention_mask': encoded['attention_mask'].squeeze(0),\n",
        "            'metadata': torch.tensor(self.metadata[idx], dtype=torch.float),\n",
        "            'label': torch.tensor(self.labels[idx], dtype=torch.long)\n",
        "        }\n"
      ],
      "metadata": {
        "id": "tmg2io4zWwPh",
        "colab": {
          "base_uri": "https://localhost:8080/",
          "height": 269,
          "referenced_widgets": [
            "a8ef2fe54fb34d1a9d5f4c34e6d706f4",
            "7d35ed9da5ab4a238d2a5599af8f34ee",
            "8414955506e64afc9886bccd0456c232",
            "162eccc6141d4c9692e36e2edc810352",
            "cfb27099a6924ffc90f66f7261cec645",
            "986a0f99adca43e78a8468ef3f0a71f7",
            "1b33ad9051fc4d6cb3c2bf750b8d42f7",
            "2a7d4ae354974f56bb47b487fa2e3445",
            "a08e2e3eaf414535a26f0bcb80155017",
            "61cc4d7b3b6c46e08f7cdc4ba1cad6c1",
            "a1049ca6e3b4460ab87161b2fcb18ce5",
            "cd20073f304f4838a68f41f808edccb8",
            "35772164c74840a283192089f773bc50",
            "7161ade89dc648b4997a87e4467f3a20",
            "fbacbb262f7a42c7a88beb480cfd5377",
            "615d5335a8154ec2b6ecb39adcc22d57",
            "da7bbca3f86f4370a4347cfada20bed7",
            "f5ca26b2300c4540874276a5f1ea6fd5",
            "4e22404798634d8d98bb8d8afbb29750",
            "4a14015aa51b41f2bd1d127054aabca9",
            "e5d08c0558484393be21722b08687894",
            "85e4cd4fd5984ccc9269f9b329869440",
            "31e0a40c915341148984fa8f293ebdab",
            "703b8ba98643495cb462e70eec42e72b",
            "3608bdd1653c4c708135a5aa2ef5b2ac",
            "3410de5293bf4e7fbbd9db4313f520a9",
            "0c4a33764fba4cb6881c5f89bd954402",
            "d4a2632841e74ce889ecec84723751f9",
            "0910a4c861a54426a35da3d7f04a4a4c",
            "785438570fc94726a6670683cdede9e3",
            "4d2f7b561ed6441aabcb5e5ea5311c3f",
            "c236a2051db544128392f731ae3e4144",
            "a7bba46ec1ac41c7a328a510e3f54206",
            "6544c163e30e4d7ca6ef1e0d4d31e33d",
            "9c3cb51f93d14a5dabcd4cb90c8492b3",
            "9df16eafd27044b3a4963aade9985628",
            "e41f5edb88b141d78f1e6062a8ee8eff",
            "a24c2eb477624e289ffe7f8815de7c53",
            "63c7cfbbb58d4bf5adcd2710a99bffb5",
            "1467729bdb6449c483e4da0af8e90007",
            "77ef297c8b444a7c930e7fda040e34b3",
            "5b762a215e474f27b3f156fbbf4493cf",
            "917d66e216e24d41ac0bf63316dfa3f8",
            "1b824e97d90146fe939b1305d4dd8380"
          ]
        },
        "outputId": "a971ebd7-8d9a-43f1-c7b8-f5ff8a6b912d"
      },
      "execution_count": null,
      "outputs": [
        {
          "output_type": "stream",
          "name": "stderr",
          "text": [
            "/usr/local/lib/python3.11/dist-packages/huggingface_hub/utils/_auth.py:94: UserWarning: \n",
            "The secret `HF_TOKEN` does not exist in your Colab secrets.\n",
            "To authenticate with the Hugging Face Hub, create a token in your settings tab (https://huggingface.co/settings/tokens), set it as secret in your Google Colab and restart your session.\n",
            "You will be able to reuse this secret in all of your notebooks.\n",
            "Please note that authentication is recommended but still optional to access public models or datasets.\n",
            "  warnings.warn(\n"
          ]
        },
        {
          "output_type": "display_data",
          "data": {
            "text/plain": [
              "tokenizer_config.json:   0%|          | 0.00/48.0 [00:00<?, ?B/s]"
            ],
            "application/vnd.jupyter.widget-view+json": {
              "version_major": 2,
              "version_minor": 0,
              "model_id": "a8ef2fe54fb34d1a9d5f4c34e6d706f4"
            }
          },
          "metadata": {}
        },
        {
          "output_type": "display_data",
          "data": {
            "text/plain": [
              "vocab.txt:   0%|          | 0.00/232k [00:00<?, ?B/s]"
            ],
            "application/vnd.jupyter.widget-view+json": {
              "version_major": 2,
              "version_minor": 0,
              "model_id": "cd20073f304f4838a68f41f808edccb8"
            }
          },
          "metadata": {}
        },
        {
          "output_type": "display_data",
          "data": {
            "text/plain": [
              "tokenizer.json:   0%|          | 0.00/466k [00:00<?, ?B/s]"
            ],
            "application/vnd.jupyter.widget-view+json": {
              "version_major": 2,
              "version_minor": 0,
              "model_id": "31e0a40c915341148984fa8f293ebdab"
            }
          },
          "metadata": {}
        },
        {
          "output_type": "display_data",
          "data": {
            "text/plain": [
              "config.json:   0%|          | 0.00/570 [00:00<?, ?B/s]"
            ],
            "application/vnd.jupyter.widget-view+json": {
              "version_major": 2,
              "version_minor": 0,
              "model_id": "6544c163e30e4d7ca6ef1e0d4d31e33d"
            }
          },
          "metadata": {}
        }
      ]
    },
    {
      "cell_type": "markdown",
      "source": [
        "## BERT Embedding + BNN"
      ],
      "metadata": {
        "id": "197mQPEbW7Em"
      }
    },
    {
      "cell_type": "code",
      "source": [
        "class BNNClassifier(PyroModule):\n",
        "    def __init__(self, bert_dim, meta_dim, hidden_dim, output_dim):\n",
        "        super().__init__()\n",
        "\n",
        "        class FrozenBERT(nn.Module):\n",
        "            def __init__(self):\n",
        "                super().__init__()\n",
        "                self.model = BertModel.from_pretrained('bert-base-uncased')\n",
        "                self.model.eval()\n",
        "                for p in self.model.parameters():\n",
        "                    p.requires_grad = False\n",
        "\n",
        "            def forward(self, input_ids, attention_mask):\n",
        "                with torch.no_grad():\n",
        "                    return self.model(input_ids=input_ids, attention_mask=attention_mask).last_hidden_state[:, 0, :]\n",
        "\n",
        "        self.bert_model = FrozenBERT()\n",
        "\n",
        "        # using tighter priors (0., 0.05)\n",
        "        input_dim = bert_dim + meta_dim\n",
        "        self.fc1 = PyroModule[nn.Linear](input_dim, hidden_dim)\n",
        "        self.fc1.weight = PyroSample(dist.Normal(0., 0.05).expand([hidden_dim, input_dim]).to_event(2))\n",
        "        self.fc1.bias = PyroSample(dist.Normal(0., 0.05).expand([hidden_dim]).to_event(1))\n",
        "\n",
        "        self.fc2 = PyroModule[nn.Linear](hidden_dim, output_dim)\n",
        "        self.fc2.weight = PyroSample(dist.Normal(0., 0.05).expand([output_dim, hidden_dim]).to_event(2))\n",
        "        self.fc2.bias = PyroSample(dist.Normal(0., 0.05).expand([output_dim]).to_event(1))\n",
        "\n",
        "    def forward(self, input_ids, attention_mask, metadata, labels=None):\n",
        "      bert_output = self.bert_model(input_ids, attention_mask)\n",
        "      x = torch.cat((bert_output, metadata), dim=1)\n",
        "      x = F.relu(self.fc1(x))\n",
        "      logits = self.fc2(x)\n",
        "\n",
        "      with pyro.plate(\"data\", x.shape[0]):\n",
        "        pyro.sample(\"obs\", dist.Categorical(logits=logits), obs=labels)\n",
        "      return logits"
      ],
      "metadata": {
        "id": "xu4cDbPjW7O3"
      },
      "execution_count": null,
      "outputs": []
    },
    {
      "cell_type": "markdown",
      "source": [
        "## Prepare Dataloaders"
      ],
      "metadata": {
        "id": "tjiibrA_Z5b3"
      }
    },
    {
      "cell_type": "code",
      "source": [
        "from sklearn.preprocessing import MinMaxScaler\n",
        "\n",
        "all_meta = [col + '_enc' for col in metadata_cols] + credit_cols\n",
        "scaler = MinMaxScaler()\n",
        "scaler.fit(train_df[all_meta])\n",
        "for df in [train_df, valid_df, test_df]:\n",
        "    df[all_meta] = scaler.transform(df[all_meta])"
      ],
      "metadata": {
        "id": "g9qDIw_01_eD"
      },
      "execution_count": null,
      "outputs": []
    },
    {
      "cell_type": "code",
      "source": [
        "train_dataset = LIARDataset(train_df)\n",
        "valid_dataset = LIARDataset(valid_df)\n",
        "train_loader = DataLoader(train_dataset, batch_size=12, shuffle=True) # increasing batch_size from 8 to 12\n",
        "valid_loader = DataLoader(valid_dataset, batch_size=12)"
      ],
      "metadata": {
        "id": "SO9l2zMAW-ZS"
      },
      "execution_count": null,
      "outputs": []
    },
    {
      "cell_type": "markdown",
      "source": [
        "## Deterministic Classifier Pre-training (to set up Guide)"
      ],
      "metadata": {
        "id": "hWtkfSbS6GIn"
      }
    },
    {
      "cell_type": "code",
      "source": [
        "bert_dim = 768\n",
        "meta_dim = len(metadata_cols) + len(credit_cols)\n",
        "hidden_dim = 256 # increased hidden layers\n",
        "output_dim = 2"
      ],
      "metadata": {
        "id": "draKg22CYNyr"
      },
      "execution_count": null,
      "outputs": []
    },
    {
      "cell_type": "code",
      "source": [
        "class DeterministicClassifier(nn.Module):\n",
        "    def __init__(self, bert_dim, meta_dim, hidden_dim, output_dim):\n",
        "        super().__init__()\n",
        "        self.bert_model = BertModel.from_pretrained(\"bert-base-uncased\")\n",
        "        for p in self.bert_model.parameters():\n",
        "            p.requires_grad = False\n",
        "        self.bert_model.eval()\n",
        "\n",
        "        self.fc1 = nn.Linear(bert_dim + meta_dim, hidden_dim)\n",
        "        self.fc2 = nn.Linear(hidden_dim, output_dim)\n",
        "\n",
        "    def forward(self, input_ids, attention_mask, metadata):\n",
        "        with torch.no_grad():\n",
        "            bert_output = self.bert_model(input_ids=input_ids, attention_mask=attention_mask).last_hidden_state[:, 0, :]\n",
        "        x = torch.cat((bert_output, metadata), dim=1)\n",
        "        x = F.relu(self.fc1(x))\n",
        "        return self.fc2(x)"
      ],
      "metadata": {
        "id": "NXHHWo3y9e4O"
      },
      "execution_count": null,
      "outputs": []
    },
    {
      "cell_type": "code",
      "source": [
        "model = DeterministicClassifier(bert_dim, meta_dim, hidden_dim, output_dim)\n",
        "optimizer = torch.optim.Adam(model.parameters(), lr=1e-3)\n",
        "loss_fn = nn.CrossEntropyLoss()\n",
        "\n",
        "def train_epoch_det(dataloader):\n",
        "    model.train()\n",
        "    total_loss = 0\n",
        "    for batch in dataloader:\n",
        "        optimizer.zero_grad()\n",
        "        logits = model(batch['input_ids'], batch['attention_mask'], batch['metadata'])\n",
        "        loss = loss_fn(logits, batch['label'])\n",
        "        loss.backward()\n",
        "        optimizer.step()\n",
        "        total_loss += loss.item()\n",
        "    return total_loss / len(dataloader)"
      ],
      "metadata": {
        "id": "YkhBtU_y5mEa",
        "colab": {
          "base_uri": "https://localhost:8080/",
          "height": 104,
          "referenced_widgets": [
            "c3eabe3e2eb94e789e0f0422e23fa87b",
            "1fba928484244776b03700306174a665",
            "ecf5233444a14c6c824843167927e31b",
            "473cfb10469a468d9d9d47fade86821d",
            "f54830221018436ea0f96f49f7522323",
            "a30030cd63d74952b2b6130df7bfbb1d",
            "1f2cc8fb11644793988108bb322af6b9",
            "91c7537463074363ae76404ff0242767",
            "7649da28abc143b988b3015f4a2b4f09",
            "3dcd1ed8494d41d7891e6f2e5ac671ad",
            "53b9b26856de4373a2f7d25f12bd88b9"
          ]
        },
        "outputId": "adcf7846-116b-4911-a682-d6202a078e31"
      },
      "execution_count": null,
      "outputs": [
        {
          "output_type": "stream",
          "name": "stderr",
          "text": [
            "Xet Storage is enabled for this repo, but the 'hf_xet' package is not installed. Falling back to regular HTTP download. For better performance, install the package with: `pip install huggingface_hub[hf_xet]` or `pip install hf_xet`\n",
            "WARNING:huggingface_hub.file_download:Xet Storage is enabled for this repo, but the 'hf_xet' package is not installed. Falling back to regular HTTP download. For better performance, install the package with: `pip install huggingface_hub[hf_xet]` or `pip install hf_xet`\n"
          ]
        },
        {
          "output_type": "display_data",
          "data": {
            "text/plain": [
              "model.safetensors:   0%|          | 0.00/440M [00:00<?, ?B/s]"
            ],
            "application/vnd.jupyter.widget-view+json": {
              "version_major": 2,
              "version_minor": 0,
              "model_id": "c3eabe3e2eb94e789e0f0422e23fa87b"
            }
          },
          "metadata": {}
        }
      ]
    },
    {
      "cell_type": "code",
      "source": [
        "batch = next(iter(train_loader))\n",
        "\n",
        "model.eval()\n",
        "\n",
        "with torch.no_grad():\n",
        "    logits = model(batch['input_ids'], batch['attention_mask'], batch['metadata'])\n",
        "\n",
        "loss_fn = nn.CrossEntropyLoss()\n",
        "loss = loss_fn(logits, batch['label'])\n",
        "\n",
        "print(f\" Deterministic model loss (single batch): {loss.item():.4f}\")"
      ],
      "metadata": {
        "id": "iKQlCJu55nUh",
        "colab": {
          "base_uri": "https://localhost:8080/"
        },
        "outputId": "9b511374-8580-492a-cf60-83cd01a6a054"
      },
      "execution_count": null,
      "outputs": [
        {
          "output_type": "stream",
          "name": "stdout",
          "text": [
            " Deterministic model loss (single batch): 0.7311\n"
          ]
        }
      ]
    },
    {
      "cell_type": "code",
      "source": [
        "num_epochs = 3\n",
        "for epoch in range(num_epochs):\n",
        "    avg_loss = train_epoch_det(train_loader)\n",
        "    print(f\"Epoch {epoch+1} Completed - Avg Loss: {avg_loss:.4f}\")"
      ],
      "metadata": {
        "id": "b3Df6TrP7jyh",
        "colab": {
          "base_uri": "https://localhost:8080/"
        },
        "outputId": "3a91f7f9-d2db-4865-cb2d-ca5dd5ae57ae"
      },
      "execution_count": null,
      "outputs": [
        {
          "output_type": "stream",
          "name": "stdout",
          "text": [
            "Epoch 1 Completed - Avg Loss: 0.6330\n",
            "Epoch 2 Completed - Avg Loss: 0.6211\n",
            "Epoch 3 Completed - Avg Loss: 0.6146\n"
          ]
        }
      ]
    },
    {
      "cell_type": "markdown",
      "source": [
        "## Pyro Guide, Optimizer, and SVI"
      ],
      "metadata": {
        "id": "ycfR7gPYaZhA"
      }
    },
    {
      "cell_type": "code",
      "source": [
        "import warnings\n",
        "warnings.filterwarnings(\"ignore\", category=UserWarning, module=\"pyro\")"
      ],
      "metadata": {
        "id": "AOm-ok86bsdm"
      },
      "execution_count": null,
      "outputs": []
    },
    {
      "cell_type": "code",
      "source": [
        "bnn_model = BNNClassifier(bert_dim, meta_dim, hidden_dim, output_dim)\n",
        "guide = AutoDiagonalNormal(bnn_model)"
      ],
      "metadata": {
        "id": "C_hs56rLaYqw",
        "collapsed": true
      },
      "execution_count": null,
      "outputs": []
    },
    {
      "cell_type": "code",
      "source": [
        "deterministic_state_dict = model.state_dict()\n",
        "guide_param_state_dict = guide.state_dict()\n",
        "\n",
        "for name, param in deterministic_state_dict.items():\n",
        "    if 'fc' in name:\n",
        "        guide_loc_name = name.replace(\".weight\", \".weight_loc\").replace(\".bias\", \".bias_loc\")\n",
        "        if guide_loc_name in guide_param_state_dict:\n",
        "            if guide_param_state_dict[guide_loc_name].shape == param.shape:\n",
        "                guide_param_state_dict[guide_loc_name] = param\n",
        "                print(f\"Initialized guide parameter: {guide_loc_name} from deterministic: {name}\")\n",
        "            else:\n",
        "                print(f\"Warning: Shape mismatch for {name}. Skipping initialization.\")\n",
        "        else:\n",
        "            print(f\"Warning: Could not find corresponding guide location parameter for: {name}\")\n",
        "    else:\n",
        "        print(f\"Skipping initialization for BERT parameter: {name}\")\n",
        "\n",
        "\n"
      ],
      "metadata": {
        "id": "AMz_riwpWI00",
        "colab": {
          "base_uri": "https://localhost:8080/"
        },
        "outputId": "07e693d7-2600-445f-d1b2-253d6deec43a",
        "collapsed": true
      },
      "execution_count": null,
      "outputs": [
        {
          "output_type": "stream",
          "name": "stdout",
          "text": [
            "Skipping initialization for BERT parameter: bert_model.embeddings.word_embeddings.weight\n",
            "Skipping initialization for BERT parameter: bert_model.embeddings.position_embeddings.weight\n",
            "Skipping initialization for BERT parameter: bert_model.embeddings.token_type_embeddings.weight\n",
            "Skipping initialization for BERT parameter: bert_model.embeddings.LayerNorm.weight\n",
            "Skipping initialization for BERT parameter: bert_model.embeddings.LayerNorm.bias\n",
            "Skipping initialization for BERT parameter: bert_model.encoder.layer.0.attention.self.query.weight\n",
            "Skipping initialization for BERT parameter: bert_model.encoder.layer.0.attention.self.query.bias\n",
            "Skipping initialization for BERT parameter: bert_model.encoder.layer.0.attention.self.key.weight\n",
            "Skipping initialization for BERT parameter: bert_model.encoder.layer.0.attention.self.key.bias\n",
            "Skipping initialization for BERT parameter: bert_model.encoder.layer.0.attention.self.value.weight\n",
            "Skipping initialization for BERT parameter: bert_model.encoder.layer.0.attention.self.value.bias\n",
            "Skipping initialization for BERT parameter: bert_model.encoder.layer.0.attention.output.dense.weight\n",
            "Skipping initialization for BERT parameter: bert_model.encoder.layer.0.attention.output.dense.bias\n",
            "Skipping initialization for BERT parameter: bert_model.encoder.layer.0.attention.output.LayerNorm.weight\n",
            "Skipping initialization for BERT parameter: bert_model.encoder.layer.0.attention.output.LayerNorm.bias\n",
            "Skipping initialization for BERT parameter: bert_model.encoder.layer.0.intermediate.dense.weight\n",
            "Skipping initialization for BERT parameter: bert_model.encoder.layer.0.intermediate.dense.bias\n",
            "Skipping initialization for BERT parameter: bert_model.encoder.layer.0.output.dense.weight\n",
            "Skipping initialization for BERT parameter: bert_model.encoder.layer.0.output.dense.bias\n",
            "Skipping initialization for BERT parameter: bert_model.encoder.layer.0.output.LayerNorm.weight\n",
            "Skipping initialization for BERT parameter: bert_model.encoder.layer.0.output.LayerNorm.bias\n",
            "Skipping initialization for BERT parameter: bert_model.encoder.layer.1.attention.self.query.weight\n",
            "Skipping initialization for BERT parameter: bert_model.encoder.layer.1.attention.self.query.bias\n",
            "Skipping initialization for BERT parameter: bert_model.encoder.layer.1.attention.self.key.weight\n",
            "Skipping initialization for BERT parameter: bert_model.encoder.layer.1.attention.self.key.bias\n",
            "Skipping initialization for BERT parameter: bert_model.encoder.layer.1.attention.self.value.weight\n",
            "Skipping initialization for BERT parameter: bert_model.encoder.layer.1.attention.self.value.bias\n",
            "Skipping initialization for BERT parameter: bert_model.encoder.layer.1.attention.output.dense.weight\n",
            "Skipping initialization for BERT parameter: bert_model.encoder.layer.1.attention.output.dense.bias\n",
            "Skipping initialization for BERT parameter: bert_model.encoder.layer.1.attention.output.LayerNorm.weight\n",
            "Skipping initialization for BERT parameter: bert_model.encoder.layer.1.attention.output.LayerNorm.bias\n",
            "Skipping initialization for BERT parameter: bert_model.encoder.layer.1.intermediate.dense.weight\n",
            "Skipping initialization for BERT parameter: bert_model.encoder.layer.1.intermediate.dense.bias\n",
            "Skipping initialization for BERT parameter: bert_model.encoder.layer.1.output.dense.weight\n",
            "Skipping initialization for BERT parameter: bert_model.encoder.layer.1.output.dense.bias\n",
            "Skipping initialization for BERT parameter: bert_model.encoder.layer.1.output.LayerNorm.weight\n",
            "Skipping initialization for BERT parameter: bert_model.encoder.layer.1.output.LayerNorm.bias\n",
            "Skipping initialization for BERT parameter: bert_model.encoder.layer.2.attention.self.query.weight\n",
            "Skipping initialization for BERT parameter: bert_model.encoder.layer.2.attention.self.query.bias\n",
            "Skipping initialization for BERT parameter: bert_model.encoder.layer.2.attention.self.key.weight\n",
            "Skipping initialization for BERT parameter: bert_model.encoder.layer.2.attention.self.key.bias\n",
            "Skipping initialization for BERT parameter: bert_model.encoder.layer.2.attention.self.value.weight\n",
            "Skipping initialization for BERT parameter: bert_model.encoder.layer.2.attention.self.value.bias\n",
            "Skipping initialization for BERT parameter: bert_model.encoder.layer.2.attention.output.dense.weight\n",
            "Skipping initialization for BERT parameter: bert_model.encoder.layer.2.attention.output.dense.bias\n",
            "Skipping initialization for BERT parameter: bert_model.encoder.layer.2.attention.output.LayerNorm.weight\n",
            "Skipping initialization for BERT parameter: bert_model.encoder.layer.2.attention.output.LayerNorm.bias\n",
            "Skipping initialization for BERT parameter: bert_model.encoder.layer.2.intermediate.dense.weight\n",
            "Skipping initialization for BERT parameter: bert_model.encoder.layer.2.intermediate.dense.bias\n",
            "Skipping initialization for BERT parameter: bert_model.encoder.layer.2.output.dense.weight\n",
            "Skipping initialization for BERT parameter: bert_model.encoder.layer.2.output.dense.bias\n",
            "Skipping initialization for BERT parameter: bert_model.encoder.layer.2.output.LayerNorm.weight\n",
            "Skipping initialization for BERT parameter: bert_model.encoder.layer.2.output.LayerNorm.bias\n",
            "Skipping initialization for BERT parameter: bert_model.encoder.layer.3.attention.self.query.weight\n",
            "Skipping initialization for BERT parameter: bert_model.encoder.layer.3.attention.self.query.bias\n",
            "Skipping initialization for BERT parameter: bert_model.encoder.layer.3.attention.self.key.weight\n",
            "Skipping initialization for BERT parameter: bert_model.encoder.layer.3.attention.self.key.bias\n",
            "Skipping initialization for BERT parameter: bert_model.encoder.layer.3.attention.self.value.weight\n",
            "Skipping initialization for BERT parameter: bert_model.encoder.layer.3.attention.self.value.bias\n",
            "Skipping initialization for BERT parameter: bert_model.encoder.layer.3.attention.output.dense.weight\n",
            "Skipping initialization for BERT parameter: bert_model.encoder.layer.3.attention.output.dense.bias\n",
            "Skipping initialization for BERT parameter: bert_model.encoder.layer.3.attention.output.LayerNorm.weight\n",
            "Skipping initialization for BERT parameter: bert_model.encoder.layer.3.attention.output.LayerNorm.bias\n",
            "Skipping initialization for BERT parameter: bert_model.encoder.layer.3.intermediate.dense.weight\n",
            "Skipping initialization for BERT parameter: bert_model.encoder.layer.3.intermediate.dense.bias\n",
            "Skipping initialization for BERT parameter: bert_model.encoder.layer.3.output.dense.weight\n",
            "Skipping initialization for BERT parameter: bert_model.encoder.layer.3.output.dense.bias\n",
            "Skipping initialization for BERT parameter: bert_model.encoder.layer.3.output.LayerNorm.weight\n",
            "Skipping initialization for BERT parameter: bert_model.encoder.layer.3.output.LayerNorm.bias\n",
            "Skipping initialization for BERT parameter: bert_model.encoder.layer.4.attention.self.query.weight\n",
            "Skipping initialization for BERT parameter: bert_model.encoder.layer.4.attention.self.query.bias\n",
            "Skipping initialization for BERT parameter: bert_model.encoder.layer.4.attention.self.key.weight\n",
            "Skipping initialization for BERT parameter: bert_model.encoder.layer.4.attention.self.key.bias\n",
            "Skipping initialization for BERT parameter: bert_model.encoder.layer.4.attention.self.value.weight\n",
            "Skipping initialization for BERT parameter: bert_model.encoder.layer.4.attention.self.value.bias\n",
            "Skipping initialization for BERT parameter: bert_model.encoder.layer.4.attention.output.dense.weight\n",
            "Skipping initialization for BERT parameter: bert_model.encoder.layer.4.attention.output.dense.bias\n",
            "Skipping initialization for BERT parameter: bert_model.encoder.layer.4.attention.output.LayerNorm.weight\n",
            "Skipping initialization for BERT parameter: bert_model.encoder.layer.4.attention.output.LayerNorm.bias\n",
            "Skipping initialization for BERT parameter: bert_model.encoder.layer.4.intermediate.dense.weight\n",
            "Skipping initialization for BERT parameter: bert_model.encoder.layer.4.intermediate.dense.bias\n",
            "Skipping initialization for BERT parameter: bert_model.encoder.layer.4.output.dense.weight\n",
            "Skipping initialization for BERT parameter: bert_model.encoder.layer.4.output.dense.bias\n",
            "Skipping initialization for BERT parameter: bert_model.encoder.layer.4.output.LayerNorm.weight\n",
            "Skipping initialization for BERT parameter: bert_model.encoder.layer.4.output.LayerNorm.bias\n",
            "Skipping initialization for BERT parameter: bert_model.encoder.layer.5.attention.self.query.weight\n",
            "Skipping initialization for BERT parameter: bert_model.encoder.layer.5.attention.self.query.bias\n",
            "Skipping initialization for BERT parameter: bert_model.encoder.layer.5.attention.self.key.weight\n",
            "Skipping initialization for BERT parameter: bert_model.encoder.layer.5.attention.self.key.bias\n",
            "Skipping initialization for BERT parameter: bert_model.encoder.layer.5.attention.self.value.weight\n",
            "Skipping initialization for BERT parameter: bert_model.encoder.layer.5.attention.self.value.bias\n",
            "Skipping initialization for BERT parameter: bert_model.encoder.layer.5.attention.output.dense.weight\n",
            "Skipping initialization for BERT parameter: bert_model.encoder.layer.5.attention.output.dense.bias\n",
            "Skipping initialization for BERT parameter: bert_model.encoder.layer.5.attention.output.LayerNorm.weight\n",
            "Skipping initialization for BERT parameter: bert_model.encoder.layer.5.attention.output.LayerNorm.bias\n",
            "Skipping initialization for BERT parameter: bert_model.encoder.layer.5.intermediate.dense.weight\n",
            "Skipping initialization for BERT parameter: bert_model.encoder.layer.5.intermediate.dense.bias\n",
            "Skipping initialization for BERT parameter: bert_model.encoder.layer.5.output.dense.weight\n",
            "Skipping initialization for BERT parameter: bert_model.encoder.layer.5.output.dense.bias\n",
            "Skipping initialization for BERT parameter: bert_model.encoder.layer.5.output.LayerNorm.weight\n",
            "Skipping initialization for BERT parameter: bert_model.encoder.layer.5.output.LayerNorm.bias\n",
            "Skipping initialization for BERT parameter: bert_model.encoder.layer.6.attention.self.query.weight\n",
            "Skipping initialization for BERT parameter: bert_model.encoder.layer.6.attention.self.query.bias\n",
            "Skipping initialization for BERT parameter: bert_model.encoder.layer.6.attention.self.key.weight\n",
            "Skipping initialization for BERT parameter: bert_model.encoder.layer.6.attention.self.key.bias\n",
            "Skipping initialization for BERT parameter: bert_model.encoder.layer.6.attention.self.value.weight\n",
            "Skipping initialization for BERT parameter: bert_model.encoder.layer.6.attention.self.value.bias\n",
            "Skipping initialization for BERT parameter: bert_model.encoder.layer.6.attention.output.dense.weight\n",
            "Skipping initialization for BERT parameter: bert_model.encoder.layer.6.attention.output.dense.bias\n",
            "Skipping initialization for BERT parameter: bert_model.encoder.layer.6.attention.output.LayerNorm.weight\n",
            "Skipping initialization for BERT parameter: bert_model.encoder.layer.6.attention.output.LayerNorm.bias\n",
            "Skipping initialization for BERT parameter: bert_model.encoder.layer.6.intermediate.dense.weight\n",
            "Skipping initialization for BERT parameter: bert_model.encoder.layer.6.intermediate.dense.bias\n",
            "Skipping initialization for BERT parameter: bert_model.encoder.layer.6.output.dense.weight\n",
            "Skipping initialization for BERT parameter: bert_model.encoder.layer.6.output.dense.bias\n",
            "Skipping initialization for BERT parameter: bert_model.encoder.layer.6.output.LayerNorm.weight\n",
            "Skipping initialization for BERT parameter: bert_model.encoder.layer.6.output.LayerNorm.bias\n",
            "Skipping initialization for BERT parameter: bert_model.encoder.layer.7.attention.self.query.weight\n",
            "Skipping initialization for BERT parameter: bert_model.encoder.layer.7.attention.self.query.bias\n",
            "Skipping initialization for BERT parameter: bert_model.encoder.layer.7.attention.self.key.weight\n",
            "Skipping initialization for BERT parameter: bert_model.encoder.layer.7.attention.self.key.bias\n",
            "Skipping initialization for BERT parameter: bert_model.encoder.layer.7.attention.self.value.weight\n",
            "Skipping initialization for BERT parameter: bert_model.encoder.layer.7.attention.self.value.bias\n",
            "Skipping initialization for BERT parameter: bert_model.encoder.layer.7.attention.output.dense.weight\n",
            "Skipping initialization for BERT parameter: bert_model.encoder.layer.7.attention.output.dense.bias\n",
            "Skipping initialization for BERT parameter: bert_model.encoder.layer.7.attention.output.LayerNorm.weight\n",
            "Skipping initialization for BERT parameter: bert_model.encoder.layer.7.attention.output.LayerNorm.bias\n",
            "Skipping initialization for BERT parameter: bert_model.encoder.layer.7.intermediate.dense.weight\n",
            "Skipping initialization for BERT parameter: bert_model.encoder.layer.7.intermediate.dense.bias\n",
            "Skipping initialization for BERT parameter: bert_model.encoder.layer.7.output.dense.weight\n",
            "Skipping initialization for BERT parameter: bert_model.encoder.layer.7.output.dense.bias\n",
            "Skipping initialization for BERT parameter: bert_model.encoder.layer.7.output.LayerNorm.weight\n",
            "Skipping initialization for BERT parameter: bert_model.encoder.layer.7.output.LayerNorm.bias\n",
            "Skipping initialization for BERT parameter: bert_model.encoder.layer.8.attention.self.query.weight\n",
            "Skipping initialization for BERT parameter: bert_model.encoder.layer.8.attention.self.query.bias\n",
            "Skipping initialization for BERT parameter: bert_model.encoder.layer.8.attention.self.key.weight\n",
            "Skipping initialization for BERT parameter: bert_model.encoder.layer.8.attention.self.key.bias\n",
            "Skipping initialization for BERT parameter: bert_model.encoder.layer.8.attention.self.value.weight\n",
            "Skipping initialization for BERT parameter: bert_model.encoder.layer.8.attention.self.value.bias\n",
            "Skipping initialization for BERT parameter: bert_model.encoder.layer.8.attention.output.dense.weight\n",
            "Skipping initialization for BERT parameter: bert_model.encoder.layer.8.attention.output.dense.bias\n",
            "Skipping initialization for BERT parameter: bert_model.encoder.layer.8.attention.output.LayerNorm.weight\n",
            "Skipping initialization for BERT parameter: bert_model.encoder.layer.8.attention.output.LayerNorm.bias\n",
            "Skipping initialization for BERT parameter: bert_model.encoder.layer.8.intermediate.dense.weight\n",
            "Skipping initialization for BERT parameter: bert_model.encoder.layer.8.intermediate.dense.bias\n",
            "Skipping initialization for BERT parameter: bert_model.encoder.layer.8.output.dense.weight\n",
            "Skipping initialization for BERT parameter: bert_model.encoder.layer.8.output.dense.bias\n",
            "Skipping initialization for BERT parameter: bert_model.encoder.layer.8.output.LayerNorm.weight\n",
            "Skipping initialization for BERT parameter: bert_model.encoder.layer.8.output.LayerNorm.bias\n",
            "Skipping initialization for BERT parameter: bert_model.encoder.layer.9.attention.self.query.weight\n",
            "Skipping initialization for BERT parameter: bert_model.encoder.layer.9.attention.self.query.bias\n",
            "Skipping initialization for BERT parameter: bert_model.encoder.layer.9.attention.self.key.weight\n",
            "Skipping initialization for BERT parameter: bert_model.encoder.layer.9.attention.self.key.bias\n",
            "Skipping initialization for BERT parameter: bert_model.encoder.layer.9.attention.self.value.weight\n",
            "Skipping initialization for BERT parameter: bert_model.encoder.layer.9.attention.self.value.bias\n",
            "Skipping initialization for BERT parameter: bert_model.encoder.layer.9.attention.output.dense.weight\n",
            "Skipping initialization for BERT parameter: bert_model.encoder.layer.9.attention.output.dense.bias\n",
            "Skipping initialization for BERT parameter: bert_model.encoder.layer.9.attention.output.LayerNorm.weight\n",
            "Skipping initialization for BERT parameter: bert_model.encoder.layer.9.attention.output.LayerNorm.bias\n",
            "Skipping initialization for BERT parameter: bert_model.encoder.layer.9.intermediate.dense.weight\n",
            "Skipping initialization for BERT parameter: bert_model.encoder.layer.9.intermediate.dense.bias\n",
            "Skipping initialization for BERT parameter: bert_model.encoder.layer.9.output.dense.weight\n",
            "Skipping initialization for BERT parameter: bert_model.encoder.layer.9.output.dense.bias\n",
            "Skipping initialization for BERT parameter: bert_model.encoder.layer.9.output.LayerNorm.weight\n",
            "Skipping initialization for BERT parameter: bert_model.encoder.layer.9.output.LayerNorm.bias\n",
            "Skipping initialization for BERT parameter: bert_model.encoder.layer.10.attention.self.query.weight\n",
            "Skipping initialization for BERT parameter: bert_model.encoder.layer.10.attention.self.query.bias\n",
            "Skipping initialization for BERT parameter: bert_model.encoder.layer.10.attention.self.key.weight\n",
            "Skipping initialization for BERT parameter: bert_model.encoder.layer.10.attention.self.key.bias\n",
            "Skipping initialization for BERT parameter: bert_model.encoder.layer.10.attention.self.value.weight\n",
            "Skipping initialization for BERT parameter: bert_model.encoder.layer.10.attention.self.value.bias\n",
            "Skipping initialization for BERT parameter: bert_model.encoder.layer.10.attention.output.dense.weight\n",
            "Skipping initialization for BERT parameter: bert_model.encoder.layer.10.attention.output.dense.bias\n",
            "Skipping initialization for BERT parameter: bert_model.encoder.layer.10.attention.output.LayerNorm.weight\n",
            "Skipping initialization for BERT parameter: bert_model.encoder.layer.10.attention.output.LayerNorm.bias\n",
            "Skipping initialization for BERT parameter: bert_model.encoder.layer.10.intermediate.dense.weight\n",
            "Skipping initialization for BERT parameter: bert_model.encoder.layer.10.intermediate.dense.bias\n",
            "Skipping initialization for BERT parameter: bert_model.encoder.layer.10.output.dense.weight\n",
            "Skipping initialization for BERT parameter: bert_model.encoder.layer.10.output.dense.bias\n",
            "Skipping initialization for BERT parameter: bert_model.encoder.layer.10.output.LayerNorm.weight\n",
            "Skipping initialization for BERT parameter: bert_model.encoder.layer.10.output.LayerNorm.bias\n",
            "Skipping initialization for BERT parameter: bert_model.encoder.layer.11.attention.self.query.weight\n",
            "Skipping initialization for BERT parameter: bert_model.encoder.layer.11.attention.self.query.bias\n",
            "Skipping initialization for BERT parameter: bert_model.encoder.layer.11.attention.self.key.weight\n",
            "Skipping initialization for BERT parameter: bert_model.encoder.layer.11.attention.self.key.bias\n",
            "Skipping initialization for BERT parameter: bert_model.encoder.layer.11.attention.self.value.weight\n",
            "Skipping initialization for BERT parameter: bert_model.encoder.layer.11.attention.self.value.bias\n",
            "Skipping initialization for BERT parameter: bert_model.encoder.layer.11.attention.output.dense.weight\n",
            "Skipping initialization for BERT parameter: bert_model.encoder.layer.11.attention.output.dense.bias\n",
            "Skipping initialization for BERT parameter: bert_model.encoder.layer.11.attention.output.LayerNorm.weight\n",
            "Skipping initialization for BERT parameter: bert_model.encoder.layer.11.attention.output.LayerNorm.bias\n",
            "Skipping initialization for BERT parameter: bert_model.encoder.layer.11.intermediate.dense.weight\n",
            "Skipping initialization for BERT parameter: bert_model.encoder.layer.11.intermediate.dense.bias\n",
            "Skipping initialization for BERT parameter: bert_model.encoder.layer.11.output.dense.weight\n",
            "Skipping initialization for BERT parameter: bert_model.encoder.layer.11.output.dense.bias\n",
            "Skipping initialization for BERT parameter: bert_model.encoder.layer.11.output.LayerNorm.weight\n",
            "Skipping initialization for BERT parameter: bert_model.encoder.layer.11.output.LayerNorm.bias\n",
            "Skipping initialization for BERT parameter: bert_model.pooler.dense.weight\n",
            "Skipping initialization for BERT parameter: bert_model.pooler.dense.bias\n",
            "Warning: Could not find corresponding guide location parameter for: fc1.weight\n",
            "Warning: Could not find corresponding guide location parameter for: fc1.bias\n",
            "Warning: Could not find corresponding guide location parameter for: fc2.weight\n",
            "Warning: Could not find corresponding guide location parameter for: fc2.bias\n"
          ]
        }
      ]
    },
    {
      "cell_type": "code",
      "source": [
        "for name, param in guide_param_state_dict.items():\n",
        "    if '_scale' in name:\n",
        "        param.data.fill_(0.1)\n",
        "        print(f\"Initialized guide parameter: {name} with small scale.\")\n",
        "\n",
        "guide.load_state_dict(guide_param_state_dict)"
      ],
      "metadata": {
        "id": "Cg8yE2bHWVYZ",
        "colab": {
          "base_uri": "https://localhost:8080/"
        },
        "outputId": "426453f0-4c22-4ccc-83fb-896c8dd434db"
      },
      "execution_count": null,
      "outputs": [
        {
          "output_type": "execute_result",
          "data": {
            "text/plain": [
              "<All keys matched successfully>"
            ]
          },
          "metadata": {},
          "execution_count": 20
        }
      ]
    },
    {
      "cell_type": "code",
      "source": [
        "optimizer = ClippedAdam({'lr': 5e-4}) # changed learning rate from 1e-3 to 5e-4\n",
        "svi = SVI(bnn_model, guide, optimizer, loss=TraceMeanField_ELBO())"
      ],
      "metadata": {
        "id": "u3C4YdcsWeKW"
      },
      "execution_count": null,
      "outputs": []
    },
    {
      "cell_type": "markdown",
      "source": [
        "## Training Loop"
      ],
      "metadata": {
        "id": "lEmdbjUHalY4"
      }
    },
    {
      "cell_type": "code",
      "source": [
        "batch = next(iter(train_loader))\n",
        "logits = model(\n",
        "    batch['input_ids'],\n",
        "    batch['attention_mask'],\n",
        "    batch['metadata'],\n",
        ")\n",
        "print(\"Logits range:\", logits.min().item(), logits.max().item())\n",
        "\n",
        "loss_fn = nn.CrossEntropyLoss()\n",
        "loss = loss_fn(logits, batch['label'])\n",
        "\n",
        "print(f\" Deterministic model loss (single batch): {loss.item():.4f}\")"
      ],
      "metadata": {
        "colab": {
          "base_uri": "https://localhost:8080/"
        },
        "id": "XIPH_8DF2fgK",
        "outputId": "121e50ff-0d32-41db-b103-b24052b88af2"
      },
      "execution_count": null,
      "outputs": [
        {
          "output_type": "stream",
          "name": "stdout",
          "text": [
            "Logits range: -1.227121114730835 1.1523164510726929\n",
            " Deterministic model loss (single batch): 0.4656\n"
          ]
        }
      ]
    },
    {
      "cell_type": "code",
      "source": [
        "model.eval()\n",
        "with torch.no_grad():\n",
        "    logits = model(\n",
        "        batch['input_ids'],\n",
        "        batch['attention_mask'],\n",
        "        batch['metadata']\n",
        "    )\n",
        "    print(\"Logits:\", logits)\n",
        "    print(\"Min:\", logits.min().item(), \"Max:\", logits.max().item())"
      ],
      "metadata": {
        "colab": {
          "base_uri": "https://localhost:8080/"
        },
        "id": "iyJzyykv49Mf",
        "outputId": "ec6628c5-2eb6-4805-8a82-3955ca409cf2"
      },
      "execution_count": null,
      "outputs": [
        {
          "output_type": "stream",
          "name": "stdout",
          "text": [
            "Logits: tensor([[ 0.4872, -0.4668],\n",
            "        [ 0.0747, -0.0089],\n",
            "        [ 0.0372, -0.0303],\n",
            "        [-0.0295,  0.0312],\n",
            "        [ 0.2061, -0.1950],\n",
            "        [ 0.8122, -0.8844],\n",
            "        [-0.0196,  0.1844],\n",
            "        [ 0.4179, -0.4434],\n",
            "        [ 0.4852, -0.4993],\n",
            "        [ 0.1149, -0.0794],\n",
            "        [ 1.1132, -1.1804],\n",
            "        [ 0.5243, -0.5486]])\n",
            "Min: -1.1803609132766724 Max: 1.1132248640060425\n"
          ]
        }
      ]
    },
    {
      "cell_type": "code",
      "source": [
        "from tqdm import tqdm\n",
        "\n",
        "best_val_loss = float('inf')\n",
        "patience = 3\n",
        "patience_counter = 0\n",
        "num_epochs = 20\n",
        "\n",
        "\n",
        "def train_epoch(dataloader, epoch_num=None):\n",
        "    bnn_model.train()\n",
        "    epoch_loss = 0\n",
        "    progress_bar = tqdm(enumerate(dataloader), total=len(dataloader), desc=f\"Epoch {epoch_num}\", leave=False)\n",
        "    for i, batch in progress_bar:\n",
        "        loss = svi.step(\n",
        "            batch['input_ids'],\n",
        "            batch['attention_mask'],\n",
        "            batch['metadata'],\n",
        "            batch['label']\n",
        "        )\n",
        "        loss /= batch['input_ids'].size(0)\n",
        "        epoch_loss += loss\n",
        "        progress_bar.set_postfix(loss=epoch_loss / (i + 1))\n",
        "    return epoch_loss / len(dataloader)\n",
        "\n",
        "for epoch in range(1, num_epochs + 1):\n",
        "    train_loss = train_epoch(train_loader, epoch)\n",
        "\n",
        "    bnn_model.eval()\n",
        "    val_loss = 0\n",
        "    for batch in valid_loader:\n",
        "        loss = svi.evaluate_loss(\n",
        "            batch['input_ids'],\n",
        "            batch['attention_mask'],\n",
        "            batch['metadata'],\n",
        "            batch['label']\n",
        "        )\n",
        "        loss /= batch['input_ids'].size(0)\n",
        "        val_loss += loss\n",
        "    val_loss /= len(valid_loader)\n",
        "\n",
        "    print(f\"Epoch {epoch}  Train Loss: {train_loss:.4f} |  Val Loss: {val_loss:.4f}\")\n",
        "\n",
        "    # Early stopping check\n",
        "    if val_loss < best_val_loss:\n",
        "        best_val_loss = val_loss\n",
        "        patience_counter = 0\n",
        "        torch.save({\n",
        "            'model_state_dict': bnn_model.state_dict(),\n",
        "            'guide_state_dict': guide.state_dict()\n",
        "        }, \"best_bnn_model_pretrained.pt\")\n",
        "        print(\" New best BNN model saved with pretraining.\")\n",
        "    else:\n",
        "        patience_counter += 1\n",
        "        print(f\" No improvement. Patience: {patience_counter}/{patience}\")\n",
        "\n",
        "    if patience_counter >= patience:\n",
        "        print(\" Early stopping triggered.\")\n",
        "        break"
      ],
      "metadata": {
        "colab": {
          "base_uri": "https://localhost:8080/"
        },
        "id": "cXvreZQuafnS",
        "outputId": "c621f855-a29d-47e4-be3f-8a7b3076d973",
        "collapsed": true
      },
      "execution_count": null,
      "outputs": [
        {
          "metadata": {
            "tags": null
          },
          "name": "stderr",
          "output_type": "stream",
          "text": [
            ""
          ]
        },
        {
          "metadata": {
            "tags": null
          },
          "name": "stdout",
          "output_type": "stream",
          "text": [
            "Epoch 1  Train Loss: 9467.1980 |  Val Loss: 6148.6560\n",
            " New best BNN model saved with pretraining.\n"
          ]
        },
        {
          "metadata": {
            "tags": null
          },
          "name": "stderr",
          "output_type": "stream",
          "text": [
            ""
          ]
        },
        {
          "metadata": {
            "tags": null
          },
          "name": "stdout",
          "output_type": "stream",
          "text": [
            "Epoch 2  Train Loss: 4302.1326 |  Val Loss: 2858.3621\n",
            " New best BNN model saved with pretraining.\n"
          ]
        },
        {
          "metadata": {
            "tags": null
          },
          "name": "stderr",
          "output_type": "stream",
          "text": [
            ""
          ]
        },
        {
          "metadata": {
            "tags": null
          },
          "name": "stdout",
          "output_type": "stream",
          "text": [
            "Epoch 3  Train Loss: 2001.1230 |  Val Loss: 1327.2880\n",
            " New best BNN model saved with pretraining.\n"
          ]
        },
        {
          "metadata": {
            "tags": null
          },
          "name": "stderr",
          "output_type": "stream",
          "text": [
            ""
          ]
        },
        {
          "metadata": {
            "tags": null
          },
          "name": "stdout",
          "output_type": "stream",
          "text": [
            "Epoch 4  Train Loss: 925.9640 |  Val Loss: 612.2877\n",
            " New best BNN model saved with pretraining.\n"
          ]
        },
        {
          "metadata": {
            "tags": null
          },
          "name": "stderr",
          "output_type": "stream",
          "text": [
            ""
          ]
        },
        {
          "metadata": {
            "tags": null
          },
          "name": "stdout",
          "output_type": "stream",
          "text": [
            "Epoch 5  Train Loss: 427.1067 |  Val Loss: 285.5302\n",
            " New best BNN model saved with pretraining.\n"
          ]
        },
        {
          "metadata": {
            "tags": null
          },
          "name": "stderr",
          "output_type": "stream",
          "text": [
            ""
          ]
        },
        {
          "metadata": {
            "tags": null
          },
          "name": "stdout",
          "output_type": "stream",
          "text": [
            "Epoch 6  Train Loss: 204.6088 |  Val Loss: 143.7375\n",
            " New best BNN model saved with pretraining.\n"
          ]
        },
        {
          "metadata": {
            "tags": null
          },
          "name": "stderr",
          "output_type": "stream",
          "text": [
            ""
          ]
        },
        {
          "metadata": {
            "tags": null
          },
          "name": "stdout",
          "output_type": "stream",
          "text": [
            "Epoch 7  Train Loss: 110.7186 |  Val Loss: 85.4486\n",
            " New best BNN model saved with pretraining.\n"
          ]
        },
        {
          "metadata": {
            "tags": null
          },
          "name": "stderr",
          "output_type": "stream",
          "text": [
            ""
          ]
        },
        {
          "metadata": {
            "tags": null
          },
          "name": "stdout",
          "output_type": "stream",
          "text": [
            "Epoch 8  Train Loss: 72.8652 |  Val Loss: 63.8787\n",
            " New best BNN model saved with pretraining.\n"
          ]
        },
        {
          "metadata": {
            "tags": null
          },
          "name": "stderr",
          "output_type": "stream",
          "text": [
            ""
          ]
        },
        {
          "metadata": {
            "tags": null
          },
          "name": "stdout",
          "output_type": "stream",
          "text": [
            "Epoch 9  Train Loss: 58.7430 |  Val Loss: 55.5671\n",
            " New best BNN model saved with pretraining.\n"
          ]
        },
        {
          "metadata": {
            "tags": null
          },
          "name": "stderr",
          "output_type": "stream",
          "text": [
            ""
          ]
        },
        {
          "metadata": {
            "tags": null
          },
          "name": "stdout",
          "output_type": "stream",
          "text": [
            "Epoch 10  Train Loss: 53.5740 |  Val Loss: 51.6887\n",
            " New best BNN model saved with pretraining.\n"
          ]
        },
        {
          "metadata": {
            "tags": null
          },
          "name": "stderr",
          "output_type": "stream",
          "text": [
            ""
          ]
        },
        {
          "metadata": {
            "tags": null
          },
          "name": "stdout",
          "output_type": "stream",
          "text": [
            "Epoch 11  Train Loss: 51.6409 |  Val Loss: 51.1332\n",
            " New best BNN model saved with pretraining.\n"
          ]
        },
        {
          "metadata": {
            "tags": null
          },
          "name": "stderr",
          "output_type": "stream",
          "text": [
            ""
          ]
        },
        {
          "metadata": {
            "tags": null
          },
          "name": "stdout",
          "output_type": "stream",
          "text": [
            "Epoch 12  Train Loss: 50.9926 |  Val Loss: 50.5133\n",
            " New best BNN model saved with pretraining.\n"
          ]
        },
        {
          "metadata": {
            "tags": null
          },
          "name": "stderr",
          "output_type": "stream",
          "text": [
            ""
          ]
        },
        {
          "metadata": {
            "tags": null
          },
          "name": "stdout",
          "output_type": "stream",
          "text": [
            "Epoch 13  Train Loss: 50.8087 |  Val Loss: 50.4692\n",
            " New best BNN model saved with pretraining.\n"
          ]
        },
        {
          "metadata": {
            "tags": null
          },
          "name": "stderr",
          "output_type": "stream",
          "text": [
            ""
          ]
        },
        {
          "metadata": {
            "tags": null
          },
          "name": "stdout",
          "output_type": "stream",
          "text": [
            "Epoch 14  Train Loss: 50.6546 |  Val Loss: 50.0772\n",
            " New best BNN model saved with pretraining.\n"
          ]
        },
        {
          "metadata": {
            "tags": null
          },
          "name": "stderr",
          "output_type": "stream",
          "text": [
            ""
          ]
        },
        {
          "metadata": {
            "tags": null
          },
          "name": "stdout",
          "output_type": "stream",
          "text": [
            "Epoch 15  Train Loss: 50.5684 |  Val Loss: 50.8775\n",
            " No improvement. Patience: 1/3\n"
          ]
        },
        {
          "metadata": {
            "tags": null
          },
          "name": "stderr",
          "output_type": "stream",
          "text": [
            ""
          ]
        },
        {
          "metadata": {
            "tags": null
          },
          "name": "stdout",
          "output_type": "stream",
          "text": [
            "Epoch 16  Train Loss: 50.5526 |  Val Loss: 50.1621\n",
            " No improvement. Patience: 2/3\n"
          ]
        },
        {
          "output_type": "stream",
          "name": "stderr",
          "text": []
        },
        {
          "output_type": "stream",
          "name": "stdout",
          "text": [
            "Epoch 17  Train Loss: 50.5345 |  Val Loss: 51.0293\n",
            " No improvement. Patience: 3/3\n",
            " Early stopping triggered.\n"
          ]
        }
      ]
    },
    {
      "cell_type": "code",
      "source": [
        "checkpoint = torch.load(\"best_bnn_model_pretrained.pt\")\n",
        "bnn_model.load_state_dict(checkpoint['model_state_dict'])\n",
        "guide.load_state_dict(checkpoint['guide_state_dict'])"
      ],
      "metadata": {
        "id": "2tYaqtrxJvzm",
        "colab": {
          "base_uri": "https://localhost:8080/"
        },
        "outputId": "67d72f71-6d48-4122-9b70-162f6978e739"
      },
      "execution_count": null,
      "outputs": [
        {
          "output_type": "execute_result",
          "data": {
            "text/plain": [
              "<All keys matched successfully>"
            ]
          },
          "metadata": {},
          "execution_count": 25
        }
      ]
    },
    {
      "cell_type": "markdown",
      "source": [
        "## Evaluation"
      ],
      "metadata": {
        "id": "F5B3wwfjFOMZ"
      }
    },
    {
      "cell_type": "code",
      "source": [
        "from sklearn.metrics import accuracy_score, f1_score\n",
        "import torch.nn.functional as F\n",
        "\n",
        "def evaluate_bnn(model, guide, dataloader, n_samples=10):\n",
        "    model.eval()\n",
        "    all_preds = []\n",
        "    all_labels = []\n",
        "\n",
        "    for batch in dataloader:\n",
        "        input_ids = batch['input_ids']\n",
        "        attention_mask = batch['attention_mask']\n",
        "        metadata = batch['metadata']\n",
        "        labels = batch['label']\n",
        "\n",
        "        logits_mc = []\n",
        "\n",
        "        for _ in range(n_samples):\n",
        "            guide_trace = pyro.poutine.trace(guide).get_trace(\n",
        "                input_ids, attention_mask, metadata\n",
        "            )\n",
        "            replayed_model = pyro.poutine.replay(model, trace=guide_trace)\n",
        "\n",
        "            with torch.no_grad():\n",
        "                logits = replayed_model(input_ids, attention_mask, metadata)\n",
        "                probs = F.softmax(logits, dim=-1)\n",
        "                logits_mc.append(probs)\n",
        "\n",
        "        mean_probs = torch.stack(logits_mc).mean(dim=0)\n",
        "        preds = mean_probs.argmax(dim=1)\n",
        "\n",
        "        all_preds.extend(preds.tolist())\n",
        "        all_labels.extend(labels.tolist())\n",
        "\n",
        "    acc = accuracy_score(all_labels, all_preds)\n",
        "    f1 = f1_score(all_labels, all_preds, average='weighted')\n",
        "    return acc, f1"
      ],
      "metadata": {
        "id": "w-HsIqj5FQkU"
      },
      "execution_count": null,
      "outputs": []
    },
    {
      "cell_type": "code",
      "source": [
        "val_acc, val_f1 = evaluate_bnn(model, guide, valid_loader, n_samples=10)\n",
        "print(f\"BNN Validation Accuracy: {val_acc:.4f}\")\n",
        "print(f\"BNN Validation F1 Score: {val_f1:.4f}\")"
      ],
      "metadata": {
        "id": "ReXGhfzOFQxf",
        "colab": {
          "base_uri": "https://localhost:8080/"
        },
        "outputId": "a85ac00a-d2a4-403c-c6fa-6050517ed1e1"
      },
      "execution_count": null,
      "outputs": [
        {
          "output_type": "stream",
          "name": "stdout",
          "text": [
            "BNN Validation Accuracy: 0.6900\n",
            "BNN Validation F1 Score: 0.6667\n"
          ]
        }
      ]
    },
    {
      "cell_type": "code",
      "source": [
        "import matplotlib.pyplot as plt\n",
        "from scipy.stats import entropy\n",
        "\n",
        "def evaluate_bnn_with_uncertainty(model, guide, dataloader, n_samples=10):\n",
        "    model.eval()\n",
        "    all_preds, all_labels, all_entropies, all_variances, all_confidences = [], [], [], [], []\n",
        "\n",
        "    for batch in dataloader:\n",
        "        input_ids = batch['input_ids']\n",
        "        attention_mask = batch['attention_mask']\n",
        "        metadata = batch['metadata']\n",
        "        labels = batch['label']\n",
        "\n",
        "        probs_mc = []\n",
        "\n",
        "        for _ in range(n_samples):\n",
        "            guide_trace = pyro.poutine.trace(guide).get_trace(input_ids, attention_mask, metadata)\n",
        "            replayed_model = pyro.poutine.replay(model, trace=guide_trace)\n",
        "\n",
        "            with torch.no_grad():\n",
        "                logits = replayed_model(input_ids, attention_mask, metadata)\n",
        "                probs = F.softmax(logits, dim=-1)\n",
        "                probs_mc.append(probs)\n",
        "\n",
        "        probs_mc = torch.stack(probs_mc)\n",
        "        mean_probs = probs_mc.mean(dim=0)\n",
        "        preds = mean_probs.argmax(dim=1)\n",
        "\n",
        "        confidences = mean_probs.max(dim=1).values\n",
        "\n",
        "        entropies = torch.tensor([entropy(p.cpu().numpy()) for p in mean_probs])\n",
        "\n",
        "        variances = probs_mc.var(dim=0).mean(dim=1)\n",
        "\n",
        "        all_preds.extend(preds.tolist())\n",
        "        all_labels.extend(labels.tolist())\n",
        "        all_confidences.extend(confidences.tolist())\n",
        "        all_entropies.extend(entropies.tolist())\n",
        "        all_variances.extend(variances.tolist())\n",
        "\n",
        "    return all_preds, all_labels, all_confidences, all_entropies, all_variances\n"
      ],
      "metadata": {
        "id": "cj5lnNvCFQ-k"
      },
      "execution_count": null,
      "outputs": []
    },
    {
      "cell_type": "code",
      "source": [
        "preds, labels, confidences, entropies, variances = evaluate_bnn_with_uncertainty(model, guide, valid_loader, n_samples=10)"
      ],
      "metadata": {
        "id": "yhmeIaP09a7U"
      },
      "execution_count": null,
      "outputs": []
    },
    {
      "cell_type": "code",
      "source": [
        "plt.hist(confidences, bins=20)\n",
        "plt.title(\"Prediction Confidence Distribution\")\n",
        "plt.xlabel(\"Confidence\")\n",
        "plt.ylabel(\"Number of Samples\")\n",
        "plt.grid(True)\n",
        "plt.show()"
      ],
      "metadata": {
        "id": "mCvC6iBz9ce9",
        "colab": {
          "base_uri": "https://localhost:8080/",
          "height": 472
        },
        "outputId": "4423d665-7ce7-4388-b547-1be957891c4e"
      },
      "execution_count": 35,
      "outputs": [
        {
          "output_type": "display_data",
          "data": {
            "text/plain": [
              "<Figure size 640x480 with 1 Axes>"
            ],
            "image/png": "[encoded data removed]"
          },
          "metadata": {}
        }
      ]
    },
    {
      "cell_type": "code",
      "source": [
        "plt.hist(entropies, bins=20)\n",
        "plt.title(\"Predictive Entropy Distribution\")\n",
        "plt.xlabel(\"Entropy\")\n",
        "plt.ylabel(\"Number of Samples\")\n",
        "plt.grid(True)\n",
        "plt.show()"
      ],
      "metadata": {
        "id": "2yow9nd0Hfm5",
        "colab": {
          "base_uri": "https://localhost:8080/",
          "height": 472
        },
        "outputId": "d9fa1972-cb4b-4b5f-fea0-b76270cac7e9"
      },
      "execution_count": null,
      "outputs": [
        {
          "output_type": "display_data",
          "data": {
            "text/plain": [
              "<Figure size 640x480 with 1 Axes>"
            ],
            "image/png": "[encoded data removed]"
          },
          "metadata": {}
        }
      ]
    },
    {
      "cell_type": "code",
      "source": [
        "plt.hist(variances, bins=20)\n",
        "plt.title(\"Prediction Variance Across Samples\")\n",
        "plt.xlabel(\"Mean Class Variance\")\n",
        "plt.ylabel(\"Number of Samples\")\n",
        "plt.grid(True)\n",
        "plt.show()"
      ],
      "metadata": {
        "id": "ItzceaQt9d1l",
        "colab": {
          "base_uri": "https://localhost:8080/",
          "height": 472
        },
        "outputId": "5da5e18f-4705-4c5c-bbbe-d430e5c9b944"
      },
      "execution_count": 36,
      "outputs": [
        {
          "output_type": "display_data",
          "data": {
            "text/plain": [
              "<Figure size 640x480 with 1 Axes>"
            ],
            "image/png": "[encoded data removed]"
          },
          "metadata": {}
        }
      ]
    }
  ]
}